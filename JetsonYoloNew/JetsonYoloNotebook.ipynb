{
 "cells": [
  {
   "cell_type": "code",
   "execution_count": 1,
   "metadata": {
    "collapsed": true,
    "trusted": true
   },
   "outputs": [
    {
     "name": "stdout",
     "output_type": "stream",
     "text": "init JetsonYoloTest\n"
    },
    {
     "name": "stderr",
     "output_type": "stream",
     "text": "Model summary: 157 layers, 7023610 parameters, 0 gradients\n"
    },
    {
     "name": "stdout",
     "output_type": "stream",
     "text": "init detection\ninit detection complete\nrun detection\nret is available\ncurrently no objects available\nfilter nearest object...\n"
    },
    {
     "ename": "UnboundLocalError",
     "evalue": "local variable 'f_object' referenced before assignment",
     "output_type": "error",
     "traceback": [
      "\u001B[0;31m\u001B[0m",
      "\u001B[0;31mUnboundLocalError\u001B[0mTraceback (most recent call last)",
      "\u001B[0;32m<ipython-input-1-d542f9fbb4bc>\u001B[0m in \u001B[0;36m<module>\u001B[0;34m\u001B[0m\n\u001B[1;32m      4\u001B[0m \u001B[0;34m\u001B[0m\u001B[0m\n\u001B[1;32m      5\u001B[0m \u001B[0;32mwhile\u001B[0m \u001B[0;32mTrue\u001B[0m\u001B[0;34m:\u001B[0m\u001B[0;34m\u001B[0m\u001B[0;34m\u001B[0m\u001B[0m\n\u001B[0;32m----> 6\u001B[0;31m     \u001B[0myolo\u001B[0m\u001B[0;34m.\u001B[0m\u001B[0mrun_detection\u001B[0m\u001B[0;34m(\u001B[0m\u001B[0;34m)\u001B[0m\u001B[0;34m\u001B[0m\u001B[0;34m\u001B[0m\u001B[0m\n\u001B[0m\u001B[1;32m      7\u001B[0m \u001B[0;34m\u001B[0m\u001B[0m\n\u001B[1;32m      8\u001B[0m     \u001B[0;32mtry\u001B[0m\u001B[0;34m:\u001B[0m\u001B[0;34m\u001B[0m\u001B[0;34m\u001B[0m\u001B[0m\n",
      "\u001B[0;32m/workspace/JetsonYoloNew/JetsonYoloTest.py\u001B[0m in \u001B[0;36mrun_detection\u001B[0;34m(self)\u001B[0m\n\u001B[1;32m     77\u001B[0m                 \u001B[0mprint\u001B[0m\u001B[0;34m(\u001B[0m\u001B[0;34m\"currently no objects available\"\u001B[0m\u001B[0;34m)\u001B[0m\u001B[0;34m\u001B[0m\u001B[0;34m\u001B[0m\u001B[0m\n\u001B[1;32m     78\u001B[0m \u001B[0;34m\u001B[0m\u001B[0m\n\u001B[0;32m---> 79\u001B[0;31m             \u001B[0mself\u001B[0m\u001B[0;34m.\u001B[0m\u001B[0mfilter_nearest_object_of_each_type\u001B[0m\u001B[0;34m(\u001B[0m\u001B[0mobjs\u001B[0m\u001B[0;34m)\u001B[0m\u001B[0;34m\u001B[0m\u001B[0;34m\u001B[0m\u001B[0m\n\u001B[0m\u001B[1;32m     80\u001B[0m \u001B[0;34m\u001B[0m\u001B[0m\n\u001B[1;32m     81\u001B[0m             \u001B[0;31m# plotting\u001B[0m\u001B[0;34m\u001B[0m\u001B[0;34m\u001B[0m\u001B[0;34m\u001B[0m\u001B[0m\n",
      "\u001B[0;32m/workspace/JetsonYoloNew/JetsonYoloTest.py\u001B[0m in \u001B[0;36mfilter_nearest_object_of_each_type\u001B[0;34m(self, objects)\u001B[0m\n\u001B[1;32m    143\u001B[0m \u001B[0;34m\u001B[0m\u001B[0m\n\u001B[1;32m    144\u001B[0m         \u001B[0;31m# ['sign_forbidden', 'sign_limit', 'sign_nolimit', 'sign_stop', 'kreuzung' ]\u001B[0m\u001B[0;34m\u001B[0m\u001B[0;34m\u001B[0m\u001B[0;34m\u001B[0m\u001B[0m\n\u001B[0;32m--> 145\u001B[0;31m         self.filtered_objects = {'sign_forbidden': f_object,\n\u001B[0m\u001B[1;32m    146\u001B[0m                                  \u001B[0;34m'sign_limit'\u001B[0m\u001B[0;34m:\u001B[0m \u001B[0ml_object\u001B[0m\u001B[0;34m,\u001B[0m\u001B[0;34m\u001B[0m\u001B[0;34m\u001B[0m\u001B[0m\n\u001B[1;32m    147\u001B[0m                                  \u001B[0;34m'sign_nolimit'\u001B[0m\u001B[0;34m:\u001B[0m \u001B[0mnl_object\u001B[0m\u001B[0;34m,\u001B[0m\u001B[0;34m\u001B[0m\u001B[0;34m\u001B[0m\u001B[0m\n",
      "\u001B[0;31mUnboundLocalError\u001B[0m: local variable 'f_object' referenced before assignment"
     ]
    }
   ],
   "source": "from JetsonYoloTest import JetsonYoloTest\n\nyolo = JetsonYoloTest('weights/best.pt')\n\nwhile True:\n    yolo.run_detection()\n\n    try:\n        print(\"FILTERD\" + yolo.get_filtered_objects()['sign_stop'].get_type())\n    except:\n        print(\"No Filtered!\")\n    ##if \"sign_stop\" in yolo.get_detected_objects():\n       ## print(yolo.get_detected_objects()()['sign_stop'].get_type())\n"
  },
  {
   "cell_type": "code",
   "execution_count": null,
   "metadata": {
    "collapsed": false,
    "trusted": true
   },
   "outputs": [],
   "source": ""
  },
  {
   "cell_type": "code",
   "execution_count": null,
   "metadata": {
    "collapsed": false,
    "trusted": true
   },
   "outputs": [],
   "source": ""
  }
 ],
 "metadata": {
  "kernelspec": {
   "display_name": "Python 3",
   "language": "python",
   "name": "python3"
  },
  "language_info": {
   "codemirror_mode": {
    "name": "ipython",
    "version": 2
   },
   "file_extension": ".py",
   "mimetype": "text/x-python",
   "name": "python",
   "nbconvert_exporter": "python",
   "pygments_lexer": "ipython2",
   "version": "2.7.6"
  }
 },
 "nbformat": 4,
 "nbformat_minor": 0
}
