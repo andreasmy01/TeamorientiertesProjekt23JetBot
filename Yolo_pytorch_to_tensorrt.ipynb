{
 "cells": [
  {
   "cell_type": "markdown",
   "id": "posted-running",
   "metadata": {},
   "source": [
    "# Yolo TensorRT"
   ]
  },
  {
   "cell_type": "code",
   "execution_count": 1,
   "id": "exterior-judges",
   "metadata": {
    "trusted": false
   },
   "outputs": [],
   "source": [
    "import torch\n",
    "from torch2trt import torch2trt, TRTModule\n",
    "from libjetbot.handles.ObjectDetectionHandle import ObjectDetectionHandle"
   ]
  },
  {
   "cell_type": "code",
   "execution_count": 2,
   "id": "amateur-oasis",
   "metadata": {
    "trusted": false
   },
   "outputs": [
    {
     "name": "stdout",
     "output_type": "stream",
     "text": "init JetsonYoloTest\n"
    },
    {
     "name": "stderr",
     "output_type": "stream",
     "text": "Model summary: 214 layers, 1770682 parameters, 0 gradients\n"
    }
   ],
   "source": [
    "odh = ObjectDetectionHandle(\"JetbotYolo/weights/obj_det_model_yolov5n.pt\")"
   ]
  },
  {
   "cell_type": "code",
   "execution_count": 3,
   "id": "reasonable-memorial",
   "metadata": {
    "trusted": false
   },
   "outputs": [],
   "source": [
    "model = odh.yolo.Object_detector.yolo_model"
   ]
  },
  {
   "cell_type": "code",
   "execution_count": 4,
   "id": "processed-peeing",
   "metadata": {
    "trusted": false
   },
   "outputs": [],
   "source": [
    "x = torch.ones((1, 3, 224, 224)).cuda()"
   ]
  },
  {
   "cell_type": "code",
   "execution_count": 5,
   "id": "unknown-penalty",
   "metadata": {
    "trusted": false
   },
   "outputs": [],
   "source": [
    "model_trt = torch2trt(model, [x])"
   ]
  },
  {
   "cell_type": "code",
   "execution_count": 7,
   "id": "vocal-crowd",
   "metadata": {
    "trusted": false
   },
   "outputs": [],
   "source": [
    "torch.save(model_trt.state_dict(), 'object_detection_model_trt.pth')"
   ]
  }
 ],
 "metadata": {
  "kernelspec": {
   "display_name": "Python 3",
   "language": "python",
   "name": "python3"
  },
  "language_info": {
   "codemirror_mode": {
    "name": "ipython",
    "version": 3
   },
   "file_extension": ".py",
   "mimetype": "text/x-python",
   "name": "python",
   "nbconvert_exporter": "python",
   "pygments_lexer": "ipython3",
   "version": "3.6.9"
  }
 },
 "nbformat": 4,
 "nbformat_minor": 5
}
