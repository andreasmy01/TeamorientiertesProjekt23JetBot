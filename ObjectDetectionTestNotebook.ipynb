{
 "cells": [
  {
   "cell_type": "markdown",
   "id": "banned-incentive",
   "metadata": {},
   "source": [
    "# Skript für den Jetbot der Sign Detection"
   ]
  },
  {
   "cell_type": "code",
   "execution_count": 18,
   "id": "conventional-coordinate",
   "metadata": {},
   "outputs": [],
   "source": [
    "import ipywidgets as widgets\n",
    "import torch\n",
    "import torchvision\n",
    "import traitlets\n",
    "from IPython.display import display\n",
    "from torch import Tensor\n",
    "import torch.nn.functional as functional\n",
    "\n",
    "from jetbot import Camera, bgr8_to_jpeg\n",
    "from libjetbot.ExtendedRobot import ExtendedRobot, Handle, ReturnData, ReturnCommand\n",
    "from libjetbot.handles.ObjectDetectionHandle import *"
   ]
  },
  {
   "cell_type": "markdown",
   "id": "covered-transportation",
   "metadata": {},
   "source": [
    "Load models"
   ]
  },
  {
   "cell_type": "markdown",
   "id": "adaptive-trash",
   "metadata": {},
   "source": [
    "Add cuda device to models"
   ]
  },
  {
   "cell_type": "code",
   "execution_count": 19,
   "id": "skilled-notion",
   "metadata": {},
   "outputs": [],
   "source": [
    "device = torch.device('cuda')"
   ]
  },
  {
   "cell_type": "markdown",
   "id": "former-profession",
   "metadata": {},
   "source": [
    "Create Camera instance"
   ]
  },
  {
   "cell_type": "code",
   "execution_count": 20,
   "id": "appointed-depth",
   "metadata": {},
   "outputs": [],
   "source": [
    "camera = Camera.instance(width=224, height=224, fps=10)"
   ]
  },
  {
   "cell_type": "code",
   "execution_count": 21,
   "id": "liberal-green",
   "metadata": {
    "collapsed": false,
    "jupyter": {
     "outputs_hidden": false
    }
   },
   "outputs": [
    {
     "name": "stdout",
     "output_type": "stream",
     "text": [
      "construct\n"
     ]
    }
   ],
   "source": [
    "robot: ExtendedRobot = ExtendedRobot(camera, {}, device)"
   ]
  },
  {
   "cell_type": "code",
   "execution_count": 22,
   "id": "configured-injury",
   "metadata": {
    "collapsed": false,
    "jupyter": {
     "outputs_hidden": false
    }
   },
   "outputs": [
    {
     "name": "stdout",
     "output_type": "stream",
     "text": [
      "init JetsonYoloTest\n"
     ]
    },
    {
     "name": "stderr",
     "output_type": "stream",
     "text": [
      "Model summary: 157 layers, 7023610 parameters, 0 gradients\n"
     ]
    }
   ],
   "source": [
    "handle = ObjectDetectionHandle('best.pt')\n",
    "#s = JetbotYolo('best.pt')"
   ]
  },
  {
   "cell_type": "code",
   "execution_count": 23,
   "id": "interesting-handy",
   "metadata": {
    "collapsed": false,
    "jupyter": {
     "outputs_hidden": false
    }
   },
   "outputs": [
    {
     "name": "stdout",
     "output_type": "stream",
     "text": [
      "register\n"
     ]
    }
   ],
   "source": [
    "robot.register(handle)"
   ]
  },
  {
   "cell_type": "code",
   "execution_count": 36,
   "id": "regulation-fellow",
   "metadata": {},
   "outputs": [
    {
     "name": "stdout",
     "output_type": "stream",
     "text": [
      "start\n",
      "exec\n",
      "[{'label': 'sign_stop', 'bbox': [(26, 110), (71, 173)], 'score': 0.97, 'xmin': 26, 'ymin': 110, 'xmax': 71, 'ymax': 173}]\n",
      "currently no objects available\n",
      "[{'label': 'sign_stop', 'bbox': [(26, 110), (71, 173)], 'score': 0.97, 'xmin': 26, 'ymin': 110, 'xmax': 71, 'ymax': 173}]\n",
      "currently no objects available\n"
     ]
    }
   ],
   "source": [
    "robot.start()"
   ]
  },
  {
   "cell_type": "code",
   "execution_count": 37,
   "id": "labeled-measure",
   "metadata": {},
   "outputs": [
    {
     "name": "stdout",
     "output_type": "stream",
     "text": [
      "[{'label': 'sign_stop', 'bbox': [(27, 111), (71, 174)], 'score': 0.96, 'xmin': 27, 'ymin': 111, 'xmax': 71, 'ymax': 174}]\n",
      "currently no objects available\n",
      "exec\n",
      "[{'label': 'sign_stop', 'bbox': [(27, 110), (71, 173)], 'score': 0.96, 'xmin': 27, 'ymin': 110, 'xmax': 71, 'ymax': 173}]\n",
      "currently no objects available\n",
      "stop\n",
      "[{'label': 'sign_stop', 'bbox': [(27, 110), (71, 173)], 'score': 0.96, 'xmin': 27, 'ymin': 110, 'xmax': 71, 'ymax': 173}]\n",
      "currently no objects available\n"
     ]
    }
   ],
   "source": [
    "robot.stop()"
   ]
  },
  {
   "cell_type": "markdown",
   "id": "conditional-remains",
   "metadata": {},
   "source": [
    "Widget for information and camera feed display"
   ]
  },
  {
   "cell_type": "code",
   "execution_count": 10,
   "id": "variable-california",
   "metadata": {},
   "outputs": [
    {
     "data": {
      "text/plain": [
       "<traitlets.traitlets.directional_link at 0x7f000ba7f0>"
      ]
     },
     "execution_count": 10,
     "metadata": {},
     "output_type": "execute_result"
    }
   ],
   "source": [
    "image_widget = widgets.Image()\n",
    "\n",
    "traitlets.dlink((camera, 'value'), (image_widget, 'value'), transform=bgr8_to_jpeg)"
   ]
  },
  {
   "cell_type": "markdown",
   "id": "peripheral-quarterly",
   "metadata": {},
   "source": [
    "Sliders and information display"
   ]
  },
  {
   "cell_type": "markdown",
   "id": "dynamic-belly",
   "metadata": {},
   "source": [
    "Variables for slider controls"
   ]
  },
  {
   "cell_type": "code",
   "execution_count": 11,
   "id": "focused-medication",
   "metadata": {
    "collapsed": false,
    "jupyter": {
     "outputs_hidden": false
    }
   },
   "outputs": [
    {
     "ename": "NameError",
     "evalue": "name 'toggle_exec_btn' is not defined",
     "output_type": "error",
     "traceback": [
      "\u001b[0;31m\u001b[0m",
      "\u001b[0;31mNameError\u001b[0mTraceback (most recent call last)",
      "\u001b[0;32m<ipython-input-11-0dbf01c6feac>\u001b[0m in \u001b[0;36m<module>\u001b[0;34m\u001b[0m\n\u001b[1;32m     12\u001b[0m \u001b[0;34m\u001b[0m\u001b[0m\n\u001b[1;32m     13\u001b[0m \u001b[0;34m\u001b[0m\u001b[0m\n\u001b[0;32m---> 14\u001b[0;31m \u001b[0mtoggle_exec_btn\u001b[0m\u001b[0;34m.\u001b[0m\u001b[0mobserve\u001b[0m\u001b[0;34m(\u001b[0m\u001b[0mstart_stop_toggle\u001b[0m\u001b[0;34m,\u001b[0m \u001b[0;34m'value'\u001b[0m\u001b[0;34m)\u001b[0m\u001b[0;34m\u001b[0m\u001b[0;34m\u001b[0m\u001b[0m\n\u001b[0m",
      "\u001b[0;31mNameError\u001b[0m: name 'toggle_exec_btn' is not defined"
     ]
    }
   ],
   "source": [
    "\n",
    "def start_stop_toggle(obj):\n",
    "    if obj[\"new\"]:\n",
    "        toggle_exec_btn.button_style = 'warning'\n",
    "        toggle_exec_btn.icon = 'warning'\n",
    "        toggle_exec_btn.description = \"Stop\"\n",
    "        robot.start()\n",
    "    else:\n",
    "        toggle_exec_btn.button_style = 'success'\n",
    "        toggle_exec_btn.icon = 'check'\n",
    "        toggle_exec_btn.description = 'Start'\n",
    "        robot.stop()\n",
    "\n",
    "\n",
    "toggle_exec_btn.observe(start_stop_toggle, 'value')"
   ]
  },
  {
   "cell_type": "code",
   "execution_count": 11,
   "id": "sapphire-attack",
   "metadata": {},
   "outputs": [],
   "source": [
    "camera.stop()"
   ]
  },
  {
   "cell_type": "code",
   "execution_count": null,
   "id": "loved-anchor",
   "metadata": {},
   "outputs": [],
   "source": []
  }
 ],
 "metadata": {
  "kernelspec": {
   "display_name": "Python 3",
   "language": "python",
   "name": "python3"
  },
  "language_info": {
   "codemirror_mode": {
    "name": "ipython",
    "version": 3
   },
   "file_extension": ".py",
   "mimetype": "text/x-python",
   "name": "python",
   "nbconvert_exporter": "python",
   "pygments_lexer": "ipython3",
   "version": "3.6.9"
  }
 },
 "nbformat": 4,
 "nbformat_minor": 5
}
