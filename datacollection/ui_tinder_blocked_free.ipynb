import ipywidgets as widgets
from IPython.display import display
import glob
import shutil
from uuid import uuid1
import os

#Return True if the tuple 'images' contains entries.
#If not return False
def check_if_images_available():
    global images
    global imageIndexLabel
    if len(images) < 1:
        display()
        imageIndexLabel = widgets.Label(value="NO IMAGES AVAILABLE")
        display(imageIndexLabel)
        return False
    return True

### *** STARTPOINT *** ###
try:
    #Store all files in directory 'dataset/collection' and
    #initialize the image to show.
    images = os.listdir("dataset/collection/")
    image = open("dataset/collection/" + images[0], 'rb').read()
    img = widgets.Image(width='500px', height='500px')
    img.value = image

    #An index to iterate through the
    #tuple 'images'
    imageIndex = 0

    #Initialize the buttons their layout
    button_layout = widgets.Layout(width='250px', height='100px')
    next_button_layout = widgets.Layout(width='505px', height='100px')
    free_button = widgets.Button(description='add free', button_style='success', layout=button_layout)
    blocked_button = widgets.Button(description='add blocked', button_style='danger', layout=button_layout)
    next_button = widgets.Button(description='Next', button_style='primary', layout=next_button_layout)

    #Initialize the click events
    next_button.on_click(lambda x: next())
    free_button.on_click(lambda x: move_to_free())
    blocked_button.on_click(lambda x: move_to_blocked())

    #Initialize a text label to show how many
    #images are available and the current image index
    imageIndexLabel = widgets.Label(value="Image " + str(imageIndex + 1) + " of " + str(len(images))) # -1 weil unsichtbares file in directory???

    #Initialize the layout of the UI and
    #display everything
    hBox = widgets.HBox([ free_button, blocked_button])
    vBox = widgets.VBox([img, imageIndexLabel, hBox, next_button])
    display(vBox)
except:
    check_if_images_available()

def showImage():
    global imageIndex
    global hBox
    global vBox
    global next_button
    global imageIndexLabel

    #First check there are images to show
    if check_if_images_available() is True:

        #When you move the last image out of the collection
        #directory the image index will be greater than the
        #lenght of the tuple 'images'. Avoid this.
        if imageIndex >= len(images):
            imageIndex -= 1

        #Open the current image
        image = open( "dataset/collection/" + images[imageIndex], 'rb').read()
        img = widgets.Image(width='500px', height='500px')
        img.value = image

        update_image_index()

        #Replace the opened image with the old image in the layout
        vBox.children = ((img,imageIndexLabel ,hBox, next_button))
        display(vBox)

#Updates the image index label
def update_image_index():
    global imageIndex
    global images
    global imageIndexLabel
    imageIndexLabel = widgets.Label(value="Image " + str(imageIndex + 1) + " of " + str(len(images)))

#Increment the image index and
#show the current image
def next():
        global imageIndex
        global images

        imageIndex += 1

        #Start from the beginning when you reached
        #last image
        if imageIndex > len(images) - 1:
            imageIndex = 0

        showImage()

def move_to_blocked():
        global imageIndex
        global images

        #Move the current image to the directory 'dataset/blocked'
        shutil.move("dataset/collection/" + images[imageIndex], "dataset/blocked/"+ images[imageIndex])

        #remove this image from the tuple
        images.remove(images[imageIndex])

        showImage()

def move_to_free():
        global imageIndex
        global images

        #Move the current image to the directory 'dataset/free'
        shutil.move("dataset/collection/" + images[imageIndex], "dataset/free/"+ images[imageIndex])

        #remove this image from the tuple
        images.remove(images[imageIndex])
        
        showImage()
