{
 "cells": [
  {
   "cell_type": "markdown",
   "metadata": {},
   "source": [
    "# Demo JetBot with Road Following, Collision Avoidance & Sign Handling"
   ]
  },
  {
   "cell_type": "markdown",
   "metadata": {},
   "source": [
    "This small demo represents an object oriented solution for combining road following, collision avoidance and sign detection models to showcase the driving capabilities of the JetBot.\n",
    "\n",
    "For optimal usage, adjust the camera angle to ~55° and consider proper lighting conditions without reflections."
   ]
  },
  {
   "cell_type": "markdown",
   "metadata": {},
   "source": [
    "1. Add Imports"
   ]
  },
  {
   "cell_type": "code",
   "execution_count": 1,
   "metadata": {},
   "outputs": [],
   "source": [
    "from libjetbot.ExtendedRobot import ExtendedRobot, HandleTypes\n",
    "from libjetbot.handles.ObjectDetectionHandle import ObjectDetectionHandle\n",
    "from libjetbot.handles.RoadFollowingHandle import RoadFollowingHandle\n",
    "from libjetbot.handles.CollisionDetectionHandle import CollisionDetectionHandle\n",
    "\n",
    "import traitlets\n",
    "import ipywidgets.widgets as widgets\n",
    "from IPython.display import display\n",
    "from jetbot import Camera, bgr8_to_jpeg"
   ]
  },
  {
   "cell_type": "markdown",
   "metadata": {},
   "source": [
    "2. Initialize the camera\n",
    "\n",
    "Add widgets to visualize camera image and additional robot information"
   ]
  },
  {
   "cell_type": "code",
   "execution_count": 2,
   "metadata": {},
   "outputs": [],
   "source": [
    "camera = Camera.instance(width=224, height=224, fps=10)\n",
    "\n",
    "image = widgets.Image(format='jpeg', width=224, height=224)  # this width and height doesn't necessarily have to match the camera\n",
    "camera_link = traitlets.dlink((camera, 'value'), (image, 'value'), transform=bgr8_to_jpeg)\n",
    "\n",
    "last_detected = widgets.Text(value='', placeholder='no sign detected yet', description='Last detected sign:', disabled=False)\n",
    "sss = widgets.IntText(value=0, placeholder='', description='Stop STATE', disabled=False)\n",
    "fcounter = widgets.IntText(value=0, placeholder='', description='Frame counter', disabled=False)"
   ]
  },
  {
   "cell_type": "markdown",
   "metadata": {},
   "source": [
    "3. Initialize the robot and the road following- / collision avoidance- / object detection handles\n",
    "\n",
    " register them for execution on new image frames"
   ]
  },
  {
   "cell_type": "code",
   "execution_count": 3,
   "metadata": {},
   "outputs": [
    {
     "name": "stdout",
     "output_type": "stream",
     "text": [
      "construct\n",
      "init JetsonYoloTest\n"
     ]
    },
    {
     "name": "stderr",
     "output_type": "stream",
     "text": [
      "Model summary: 214 layers, 1770682 parameters, 0 gradients\n"
     ]
    },
    {
     "name": "stdout",
     "output_type": "stream",
     "text": [
      "Registering module 'HandleTypes.COLLISION_DETECTION'\n",
      "Registering module 'HandleTypes.ROAD_FOLLOWING'\n",
      "Registering module 'HandleTypes.OBJECT_DETECTION'\n"
     ]
    }
   ],
   "source": [
    "bot = ExtendedRobot(camera)\n",
    "\n",
    "cdh = CollisionDetectionHandle(\"JetbotYolo/weights/collision_model_resnet_19_04_a_trt.pth\")\n",
    "rfh = RoadFollowingHandle(\"JetbotYolo/weights/best_steering_model_xy_17_04_a_trtv2.pth\")\n",
    "odh = ObjectDetectionHandle(\"JetbotYolo/weights/object_detection_model_trt.pth\", trt=True)\n",
    "\n",
    "\n",
    "bot.register(HandleTypes.COLLISION_DETECTION, cdh)\n",
    "bot.register(HandleTypes.ROAD_FOLLOWING, rfh)\n",
    "bot.register(HandleTypes.OBJECT_DETECTION, odh)"
   ]
  },
  {
   "cell_type": "markdown",
   "metadata": {},
   "source": [
    "4. Create links for the traitlets to show values on change and display them"
   ]
  },
  {
   "cell_type": "code",
   "execution_count": 5,
   "metadata": {},
   "outputs": [
    {
     "data": {
      "application/vnd.jupyter.widget-view+json": {
       "model_id": "d451e372752a4dd79dc29a8ce9dcb26d",
       "version_major": 2,
       "version_minor": 0
      },
      "text/plain": [
       "Image(value=b'\\xff\\xd8\\xff\\xe0\\x00\\x10JFIF\\x00\\x01\\x01\\x00\\x00\\x01\\x00\\x01\\x00\\x00\\xff\\xdb\\x00C\\x00\\x02\\x01\\x0…"
      ]
     },
     "metadata": {},
     "output_type": "display_data"
    },
    {
     "data": {
      "application/vnd.jupyter.widget-view+json": {
       "model_id": "b8bfa08506194cf7bf4e8965638e7827",
       "version_major": 2,
       "version_minor": 0
      },
      "text/plain": [
       "Text(value='', description='Last detected sign:', placeholder='no sign detected yet')"
      ]
     },
     "metadata": {},
     "output_type": "display_data"
    },
    {
     "data": {
      "application/vnd.jupyter.widget-view+json": {
       "model_id": "073c270f59744ea4b70516cbd4b195ad",
       "version_major": 2,
       "version_minor": 0
      },
      "text/plain": [
       "IntText(value=0, description='Stop STATE')"
      ]
     },
     "metadata": {},
     "output_type": "display_data"
    },
    {
     "data": {
      "application/vnd.jupyter.widget-view+json": {
       "model_id": "8c5963bfd77140bcab5bf5b759748270",
       "version_major": 2,
       "version_minor": 0
      },
      "text/plain": [
       "IntText(value=0, description='Frame counter')"
      ]
     },
     "metadata": {},
     "output_type": "display_data"
    }
   ],
   "source": [
    "last_detected_link = traitlets.dlink( (odh, 'last_detected'), (last_detected, 'value'))\n",
    "sss_link = traitlets.dlink( (odh, 'state_sign_stop'), (sss, 'value'))\n",
    "fcounter_link = traitlets.dlink( (odh, 'global_fcounter'), (fcounter, 'value'))\n",
    "\n",
    "#slider_sss = widgets.IntSlider(value=0, min=0, max=3, step=1, description='state sign stop')\n",
    "#link_sss = traitlets.dlink( (slider_sss, 'value'), (odh, 'state_sign_stop')) \n",
    "\n",
    "display(image, last_detected, sss, fcounter)"
   ]
  },
  {
   "cell_type": "markdown",
   "metadata": {},
   "source": [
    "5. Start the bot.\n",
    "\n",
    "**Caution**: The bot will start driving. **Please hold the bot** and wait until the camera feed shown in the notebook updates before releasing it again. (This process can take a few seconds)\n",
    "\n",
    "Now it should be able to drive on the pre-trained track and react to the pre-trained signs"
   ]
  },
  {
   "cell_type": "code",
   "execution_count": 6,
   "metadata": {
    "collapsed": false,
    "jupyter": {
     "outputs_hidden": false
    }
   },
   "outputs": [
    {
     "name": "stdout",
     "output_type": "stream",
     "text": [
      "start\n"
     ]
    }
   ],
   "source": [
    "bot.start()"
   ]
  },
  {
   "cell_type": "markdown",
   "metadata": {},
   "source": [
    "6. Stop the bot. You may start the bot again."
   ]
  },
  {
   "cell_type": "code",
   "execution_count": null,
   "metadata": {
    "collapsed": false,
    "jupyter": {
     "outputs_hidden": false
    },
    "pycharm": {
     "is_executing": true
    }
   },
   "outputs": [],
   "source": [
    "bot.pause()"
   ]
  },
  {
   "cell_type": "markdown",
   "metadata": {},
   "source": [
    "7. Stop and destroy the camera. The camera is now free to be used by other scripts. To re-enable this script, restart the kernel for this script and go to step 1."
   ]
  },
  {
   "cell_type": "code",
   "execution_count": null,
   "metadata": {
    "collapsed": false,
    "jupyter": {
     "outputs_hidden": false
    }
   },
   "outputs": [],
   "source": [
    "camera.stop()"
   ]
  }
 ],
 "metadata": {
  "kernelspec": {
   "display_name": "Python 3",
   "language": "python",
   "name": "python3"
  },
  "language_info": {
   "codemirror_mode": {
    "name": "ipython",
    "version": 3
   },
   "file_extension": ".py",
   "mimetype": "text/x-python",
   "name": "python",
   "nbconvert_exporter": "python",
   "pygments_lexer": "ipython3",
   "version": "3.6.9"
  }
 },
 "nbformat": 4,
 "nbformat_minor": 4
}
