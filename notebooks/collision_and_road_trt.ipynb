{
 "cells": [
  {
   "cell_type": "markdown",
   "id": "constant-assist",
   "metadata": {},
   "source": [
    "# Script for Jetbot with Road Following und Collision Avoidance combined with TensorRT"
   ]
  },
  {
   "cell_type": "markdown",
   "source": [
    "### Libraries\n",
    "\n",
    "Import all necessary libraries for this notebook in one central place\n",
    "\n",
    "External libraries:\n",
    "+ https://github.com/NVIDIA-AI-IOT/torch2trt/tree/v0.3.0\n",
    "+ https://github.com/NVIDIA-AI-IOT/jetbot"
   ],
   "metadata": {
    "collapsed": false
   }
  },
  {
   "cell_type": "code",
   "execution_count": null,
   "id": "tender-miracle",
   "metadata": {},
   "outputs": [],
   "source": [
    "import math\n",
    "import os\n",
    "import time\n",
    "import traitlets\n",
    "from uuid import uuid1\n",
    "\n",
    "import ipywidgets as widgets\n",
    "from IPython.display import display\n",
    "\n",
    "import PIL.Image\n",
    "\n",
    "import torch\n",
    "import torch.nn.functional as functional\n",
    "import torchvision.transforms as transforms\n",
    "\n",
    "from torch2trt import TRTModule\n",
    "\n",
    "from jetbot import Camera, bgr8_to_jpeg\n",
    "from jetbot import Robot"
   ]
  },
  {
   "cell_type": "markdown",
   "source": [
    "### Logic Part I (Pre-Requirements)\n",
    "\n",
    "Load both TRT optimized models for Road Following and Collision Avoidance"
   ],
   "metadata": {
    "collapsed": false
   }
  },
  {
   "cell_type": "code",
   "execution_count": null,
   "id": "american-birth",
   "metadata": {},
   "outputs": [],
   "source": [
    "device = torch.device('cuda')\n",
    "\n",
    "model_road = TRTModule()\n",
    "model_road.load_state_dict(torch.load('models/road_following/best_steering_model_xy_17_04_a_trtv2.pth'))\n",
    "\n",
    "model_collision = TRTModule()\n",
    "model_collision.load_state_dict(torch.load('models/collision_resnet/collision_model_resnet_19_04_a_trt.pth'))"
   ]
  },
  {
   "cell_type": "markdown",
   "source": [
    "Init the Robot object"
   ],
   "metadata": {
    "collapsed": false
   }
  },
  {
   "cell_type": "code",
   "execution_count": null,
   "outputs": [],
   "source": [
    "robot = Robot()"
   ],
   "metadata": {
    "collapsed": false
   }
  },
  {
   "cell_type": "markdown",
   "source": [
    "Define some global variables"
   ],
   "metadata": {
    "collapsed": false
   }
  },
  {
   "cell_type": "code",
   "execution_count": null,
   "outputs": [],
   "source": [
    "angle_last, stop_counter = 0.0, 0\n",
    "can_drive = True\n",
    "stop_counter_limit = 10\n",
    "x, y = 0.0, 0.0\n",
    "robot_is_stopped = True"
   ],
   "metadata": {
    "collapsed": false
   }
  },
  {
   "cell_type": "markdown",
   "source": [
    "Create a Camera instance"
   ],
   "metadata": {
    "collapsed": false
   }
  },
  {
   "cell_type": "code",
   "execution_count": null,
   "outputs": [],
   "source": [
    "camera = Camera.instance(width=224, height=224, fps=10)"
   ],
   "metadata": {
    "collapsed": false
   }
  },
  {
   "cell_type": "markdown",
   "id": "casual-tourist",
   "metadata": {},
   "source": [
    "Preprocess a given image"
   ]
  },
  {
   "cell_type": "code",
   "execution_count": null,
   "id": "conservative-manner",
   "metadata": {},
   "outputs": [],
   "source": [
    "mean = torch.Tensor([0.485, 0.456, 0.406]).cuda().half()\n",
    "std = torch.Tensor([0.229, 0.224, 0.225]).cuda().half()\n",
    "\n",
    "def preprocess(image):\n",
    "    image = PIL.Image.fromarray(image)\n",
    "    image = transforms.functional.to_tensor(image).to(device).half()\n",
    "    image.sub_(mean[:, None, None]).div_(std[:, None, None])\n",
    "    return image[None, ...]"
   ]
  },
  {
   "cell_type": "markdown",
   "id": "subject-novel",
   "metadata": {},
   "source": [
    "Define a function for taking a snapshot\n",
    "\n",
    "*Note: Can be used for taking an image when the Jetbot is blocked via Collision Avoidance but shouldn't,\n",
    "so the taken snapshot can later be put in the \"free\" folder of the training dataset for the next Collision Avoidance training.*"
   ]
  },
  {
   "cell_type": "code",
   "execution_count": null,
   "id": "welcome-accessory",
   "metadata": {
    "collapsed": false,
    "jupyter": {
     "outputs_hidden": false
    }
   },
   "outputs": [],
   "source": [
    "def take_snapshot(b=None):\n",
    "    try:\n",
    "        os.makedirs(\"snapshot\")\n",
    "    except FileExistsError:\n",
    "        pass\n",
    "    with open(os.path.join('snapshot', str(uuid1()) + '.jpg'), 'wb') as f:\n",
    "        f.write(image_widget.value)"
   ]
  },
  {
   "cell_type": "markdown",
   "id": "appropriate-plenty",
   "metadata": {},
   "source": [
    "Calculate speed values"
   ]
  },
  {
   "cell_type": "code",
   "execution_count": null,
   "id": "reflected-africa",
   "metadata": {
    "collapsed": false,
    "jupyter": {
     "outputs_hidden": false
    }
   },
   "outputs": [],
   "source": [
    "def calculate_speed(last_a: float, x_in: float, y_in: float) -> (float, float, float):\n",
    "    global a_slider\n",
    "\n",
    "    # see start_stop_toggle()\n",
    "    if robot_is_stopped:\n",
    "        return 0.0, 0.0, 0.0\n",
    "\n",
    "    # calculate alpha value\n",
    "    a = math.atan2(x_in, y_in)\n",
    "    a_slider.value = a\n",
    "    xy_out.value = f\"({x:.02f} {y:.02f})\"\n",
    "\n",
    "    # get the current PointOfInterest and and calculate the resulting steering parameters\n",
    "    pid = a * steer_gain + (a - last_a) * steer_kd_gain\n",
    "    steer_val = pid + steer_bias\n",
    "    left = max(min(speed_control + steer_val, 1.0), 0.0)\n",
    "    right = max(min(speed_control - steer_val, 1.0), 0.0)\n",
    "\n",
    "    return a, left, right"
   ]
  },
  {
   "cell_type": "markdown",
   "source": [
    "Handle Collision Avoidance from single camera frame"
   ],
   "metadata": {
    "collapsed": false
   }
  },
  {
   "cell_type": "code",
   "execution_count": null,
   "id": "floppy-citizen",
   "metadata": {
    "collapsed": false,
    "jupyter": {
     "outputs_hidden": false
    }
   },
   "outputs": [],
   "source": [
    "def get_collision_chance(image) -> float:\n",
    "    collision = model_collision(image)\n",
    "    collision_softmax = functional.softmax(collision, dim=1).flatten()\n",
    "\n",
    "    return float(collision_softmax[0])"
   ]
  },
  {
   "cell_type": "markdown",
   "source": [
    "Handle Road Following from single camera frame"
   ],
   "metadata": {
    "collapsed": false
   }
  },
  {
   "cell_type": "code",
   "execution_count": null,
   "id": "czech-trauma",
   "metadata": {
    "collapsed": false,
    "jupyter": {
     "outputs_hidden": false
    }
   },
   "outputs": [],
   "source": [
    "def get_road_direction(image) -> (float, float):\n",
    "    model_xy = model_road(image).detach().float().cpu().numpy().flatten()\n",
    "    model_x = model_xy[0]\n",
    "    model_y = (0.5 - model_xy[1]) / 2.0\n",
    "\n",
    "    return model_x, model_y"
   ]
  },
  {
   "cell_type": "markdown",
   "source": [
    "### UI Elements\n",
    "\n",
    "Create widgets for information and camera feed display"
   ],
   "metadata": {
    "collapsed": false
   }
  },
  {
   "cell_type": "code",
   "execution_count": null,
   "outputs": [],
   "source": [
    "image_widget = widgets.Image()\n",
    "\n",
    "speed_output = widgets.Text(\n",
    "    value='',\n",
    "    placeholder='',\n",
    "    description='(l,r):',\n",
    "    disabled=True\n",
    ")\n",
    "\n",
    "model_output = widgets.Textarea(\n",
    "    value='',\n",
    "    placeholder='placeholder',\n",
    "    description='Model:',\n",
    "    disabled=False\n",
    ")\n",
    "\n",
    "traitlets.dlink((camera, 'value'), (image_widget, 'value'), transform=bgr8_to_jpeg)"
   ],
   "metadata": {
    "collapsed": false
   }
  },
  {
   "cell_type": "markdown",
   "source": [
    "Define sliders and information widgets\n",
    "\n",
    "*Note: All default values that should lead to good driving results are defined as value=x*"
   ],
   "metadata": {
    "collapsed": false
   }
  },
  {
   "cell_type": "code",
   "execution_count": null,
   "outputs": [],
   "source": [
    "# Road Following sliders\n",
    "speed_control_slider = widgets.FloatSlider(value=0.12, min=0.0, max=1.0, step=0.01, description='speed control')\n",
    "steering_gain_slider = widgets.FloatSlider(value=0.03, min=0.0, max=1.0, step=0.01, description='steering gain')\n",
    "steering_kd_gain_slider = widgets.FloatSlider(value=0.06, min=0.0, max=0.5, step=0.001, description='steering kd')\n",
    "steering_bias_slider = widgets.FloatSlider(value=0.0, min=-0.3, max=0.3, step=0.01, description='steering bias')\n",
    "\n",
    "# Collision Avoidance sliders\n",
    "blocked_slider = widgets.FloatSlider(min=0.0, max=1.0, orientation='horizontal', description='blocked')\n",
    "stop_duration_slider = widgets.IntSlider(value=10, min=1, max=1000, step=1, description='time for stop')\n",
    "blocked_threshold = widgets.FloatSlider(value=0.8, min=0, max=1.0, step=0.01, description='blocked threshold')\n",
    "\n",
    "# Steering sliders\n",
    "diff_gain_limit_slider = widgets.FloatSlider(value=1.5, min=0.0, max=1.8, step=0.01, description='diff_gain_limit')\n",
    "curve_min_val_slider = widgets.FloatSlider(value=0.08, min=0.0, max=0.25, step=0.01, description='curve_min_val')\n",
    "alpha_factor_slider = widgets.FloatSlider(value=0.00, min=-1.0, max=1.0, step=0.01, description='alpha_factor')\n",
    "steering_correction_activation = widgets.FloatSlider(value=0.25, min=0.0, max=math.pi, step=0.05, description='steering_correction_activation')\n",
    "\n",
    "toggle_exec_btn = widgets.ToggleButton(\n",
    "    value=False,\n",
    "    description='Start',\n",
    "    disabled=False,\n",
    "    button_style='success',\n",
    "    tooltip='Description',\n",
    "    icon='check'\n",
    ")\n",
    "\n",
    "snapshot_btn = widgets.Button(\n",
    "    description='snapshot'\n",
    ")"
   ],
   "metadata": {
    "collapsed": false
   }
  },
  {
   "cell_type": "markdown",
   "source": [
    "Define the variables for slider controls"
   ],
   "metadata": {
    "collapsed": false
   }
  },
  {
   "cell_type": "code",
   "execution_count": null,
   "outputs": [],
   "source": [
    "speed_control, steer_gain, steer_kd_gain, steer_bias = speed_control_slider.value, 0.0, 0.0, 0.0"
   ],
   "metadata": {
    "collapsed": false
   }
  },
  {
   "cell_type": "markdown",
   "source": [
    "Create a debug slider for displaying the current speed (alpha value)."
   ],
   "metadata": {
    "collapsed": false
   }
  },
  {
   "cell_type": "code",
   "execution_count": null,
   "outputs": [],
   "source": [
    "a_slider = widgets.FloatSlider(min=-math.pi, max=math.pi, step=0.01, description='a')\n",
    "xy_out = widgets.Text()"
   ],
   "metadata": {
    "collapsed": false
   }
  },
  {
   "cell_type": "markdown",
   "source": [
    "Attach functions to ui elements"
   ],
   "metadata": {
    "collapsed": false
   }
  },
  {
   "cell_type": "markdown",
   "source": [
    "### Logic Part II (Driving)"
   ],
   "metadata": {
    "collapsed": false
   }
  },
  {
   "cell_type": "markdown",
   "source": [
    "Execute the overall driving logic"
   ],
   "metadata": {
    "collapsed": false
   }
  },
  {
   "cell_type": "code",
   "execution_count": null,
   "outputs": [],
   "source": [
    "def execute(change):\n",
    "    global angle_last, blocked_slider, robot, stop_counter, stop_counter_limit, can_drive, x, y, blocked_threshold\n",
    "    global speed_control, steer_gain, steer_kd_gain, steer_bias\n",
    "\n",
    "    # get image from current camera frame\n",
    "    image = change['new']\n",
    "    image_preproc = preprocess(image).to(device)\n",
    "\n",
    "    # get slider values\n",
    "    steer_gain = steering_gain_slider.value\n",
    "    steer_kd_gain = steering_kd_gain_slider.value\n",
    "    steer_bias = steering_bias_slider.value\n",
    "    stop_counter_limit = stop_duration_slider.value\n",
    "    max_speed = speed_control_slider.value\n",
    "\n",
    "    prob_blocked = get_collision_chance(image_preproc)\n",
    "    blocked_slider.value = prob_blocked\n",
    "\n",
    "    # when the Jetbot can drive\n",
    "    if can_drive:\n",
    "        # Collision Avoidance factor determines if Jetbot can drive\n",
    "        can_drive = prob_blocked <= blocked_threshold.value\n",
    "        if can_drive:\n",
    "            stop_counter = 0\n",
    "            x, y = get_road_direction(image_preproc)\n",
    "            speed_control = max_speed\n",
    "        else:\n",
    "            stop_counter += 1\n",
    "\n",
    "    # when the Jetbot can not drive (e.g. is blocked by Collision Avoidance)\n",
    "    else:\n",
    "        stop_counter += 1\n",
    "        if stop_counter < stop_counter_limit:\n",
    "            x, y, speed_control = 0.0, 0.0, 0\n",
    "        # move anyway after certain time (frames) has passed (stop_counter_limit)\n",
    "        else:\n",
    "            can_drive = True\n",
    "            stop_counter = 0\n",
    "\n",
    "    # calculate the steering parameters\n",
    "    angle, left, right = calculate_speed(angle_last, x, y)\n",
    "    angle_last = angle\n",
    "\n",
    "    # move the robot\n",
    "    robot.left_motor.value = left\n",
    "    robot.right_motor.value = right\n",
    "\n",
    "    # display the steering parameters\n",
    "    speed_output.value = f'{left:.02f}/{right:.02f}'\n",
    "\n",
    "\n",
    "execute({'new': camera.value})"
   ],
   "metadata": {
    "collapsed": false
   }
  },
  {
   "cell_type": "markdown",
   "source": [
    "Creates a toggle for starting and stopping the Jetbot"
   ],
   "metadata": {
    "collapsed": false
   }
  },
  {
   "cell_type": "code",
   "execution_count": null,
   "outputs": [],
   "source": [
    "def start_stop_toggle(obj):\n",
    "    global robot_is_stopped\n",
    "    if obj[\"new\"]:\n",
    "        toggle_exec_btn.button_style = 'warning'\n",
    "        toggle_exec_btn.icon = 'warning'\n",
    "        toggle_exec_btn.description = \"Stop\"\n",
    "        camera.observe(execute, names='value')\n",
    "        robot_is_stopped = False\n",
    "    else:\n",
    "        toggle_exec_btn.button_style = 'success'\n",
    "        toggle_exec_btn.icon = 'check'\n",
    "        toggle_exec_btn.description = 'Start'\n",
    "        camera.unobserve(execute, names='value')\n",
    "        robot_is_stopped = True\n",
    "        time.sleep(0.1) # Not the finest solution, but this makes sure all model calculations are finished before robot is really stopped\n",
    "        robot.stop()"
   ],
   "metadata": {
    "collapsed": false
   }
  },
  {
   "cell_type": "markdown",
   "source": [
    "### Display"
   ],
   "metadata": {
    "collapsed": false
   }
  },
  {
   "cell_type": "code",
   "execution_count": null,
   "outputs": [],
   "source": [
    "snapshot_btn.on_click(take_snapshot)\n",
    "\n",
    "toggle_exec_btn.observe(start_stop_toggle, 'value')"
   ],
   "metadata": {
    "collapsed": false
   }
  },
  {
   "cell_type": "markdown",
   "source": [
    "Display all information"
   ],
   "metadata": {
    "collapsed": false
   }
  },
  {
   "cell_type": "code",
   "execution_count": null,
   "id": "olympic-stamp",
   "metadata": {},
   "outputs": [],
   "source": [
    "display(speed_control_slider, steering_gain_slider, steering_kd_gain_slider, steering_bias_slider)\n",
    "\n",
    "display(diff_gain_limit_slider, curve_min_val_slider, alpha_factor_slider, steering_correction_activation)\n",
    "\n",
    "display(widgets.HBox([toggle_exec_btn, snapshot_btn]))\n",
    "\n",
    "display(widgets.HBox([image_widget]))\n",
    "display(speed_output)\n",
    "\n",
    "display(widgets.HBox([blocked_slider, blocked_threshold, stop_duration_slider]))\n",
    "display(a_slider, xy_out)"
   ]
  }
 ],
 "metadata": {
  "kernelspec": {
   "display_name": "Python 3",
   "language": "python",
   "name": "python3"
  },
  "language_info": {
   "codemirror_mode": {
    "name": "ipython",
    "version": 3
   },
   "file_extension": ".py",
   "mimetype": "text/x-python",
   "name": "python",
   "nbconvert_exporter": "python",
   "pygments_lexer": "ipython3",
   "version": "3.6.9"
  }
 },
 "nbformat": 4,
 "nbformat_minor": 5
}
