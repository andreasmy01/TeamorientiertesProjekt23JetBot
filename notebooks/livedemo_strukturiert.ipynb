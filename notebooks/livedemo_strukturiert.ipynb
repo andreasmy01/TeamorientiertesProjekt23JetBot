{
 "cells": [
  {
   "cell_type": "code",
   "execution_count": null,
   "metadata": {
    "collapsed": true,
    "pycharm": {
     "is_executing": true
    }
   },
   "outputs": [],
   "source": [
    "import math\n",
    "import time\n",
    "\n",
    "import PIL.Image\n",
    "import ipywidgets as widgets\n",
    "import torch\n",
    "import torch.nn.functional as functional\n",
    "import torchvision\n",
    "import torchvision.transforms as transforms\n",
    "import traitlets\n",
    "from IPython.display import display\n",
    "import cv2\n",
    "\n",
    "from jetbot import Camera, bgr8_to_jpeg\n",
    "from jetbot import Robot\n"
   ]
  },
  {
   "cell_type": "code",
   "execution_count": null,
   "metadata": {
    "collapsed": false
   },
   "outputs": [],
   "source": [
    "model_road = torchvision.models.resnet18(pretrained=False)\n",
    "model_road.fc = torch.nn.Linear(512, 2)\n",
    "model_road.load_state_dict(torch.load('best_steering_model_xy.pth'))\n",
    "\n",
    "model_collision = torchvision.models.alexnet(pretrained=False)\n",
    "model_collision.classifier[6] = torch.nn.Linear(model_collision.classifier[6].in_features, 2)\n",
    "model_collision.load_state_dict(torch.load('best_model.pth'))\n",
    "\n",
    "model_signs = torchvision.models.alexnet(pretrained=False)\n",
    "model_signs.classifier[6] = torch.nn.Linear(model_signs.classifier[6].in_features, 3)\n",
    "model_signs.load_state_dict(torch.load('sign_detection_model.pth'))\n",
    "\n",
    "model_kreuzung = torchvision.models.alexnet(pretrained=False)\n",
    "model_kreuzung.classifier[6] = torch.nn.Linear(model_kreuzung.classifier[6].in_features, 2)\n",
    "model_kreuzung.load_state_dict(torch.load('kreuzung_model.pth'))"
   ]
  },
  {
   "cell_type": "code",
   "execution_count": 1,
   "metadata": {
    "collapsed": false
   },
   "outputs": [
    {
     "ename": "NameError",
     "evalue": "name 'torch' is not defined",
     "output_type": "error",
     "traceback": [
      "\u001B[0;31m\u001B[0m",
      "\u001B[0;31mNameError\u001B[0mTraceback (most recent call last)",
      "\u001B[0;32m<ipython-input-1-87fffe2d31ef>\u001B[0m in \u001B[0;36m<module>\u001B[0;34m\u001B[0m\n\u001B[0;32m----> 1\u001B[0;31m \u001B[0mdevice\u001B[0m \u001B[0;34m=\u001B[0m \u001B[0mtorch\u001B[0m\u001B[0;34m.\u001B[0m\u001B[0mdevice\u001B[0m\u001B[0;34m(\u001B[0m\u001B[0;34m'cuda'\u001B[0m\u001B[0;34m)\u001B[0m\u001B[0;34m\u001B[0m\u001B[0;34m\u001B[0m\u001B[0m\n\u001B[0m\u001B[1;32m      2\u001B[0m \u001B[0mmodel_road\u001B[0m \u001B[0;34m=\u001B[0m \u001B[0mmodel_road\u001B[0m\u001B[0;34m.\u001B[0m\u001B[0mto\u001B[0m\u001B[0;34m(\u001B[0m\u001B[0mdevice\u001B[0m\u001B[0;34m)\u001B[0m\u001B[0;34m\u001B[0m\u001B[0;34m\u001B[0m\u001B[0m\n\u001B[1;32m      3\u001B[0m \u001B[0mmodel_collision\u001B[0m \u001B[0;34m=\u001B[0m \u001B[0mmodel_collision\u001B[0m\u001B[0;34m.\u001B[0m\u001B[0mto\u001B[0m\u001B[0;34m(\u001B[0m\u001B[0mdevice\u001B[0m\u001B[0;34m)\u001B[0m\u001B[0;34m\u001B[0m\u001B[0;34m\u001B[0m\u001B[0m\n",
      "\u001B[0;31mNameError\u001B[0m: name 'torch' is not defined"
     ]
    }
   ],
   "source": [
    "device = torch.device('cuda')\n",
    "model_road = model_road.to(device)\n",
    "model_collision = model_collision.to(device)\n",
    "model_signs = model_signs.to(device)\n",
    "model_kreuzung = model_kreuzung.to(device)"
   ]
  },
  {
   "cell_type": "code",
   "execution_count": null,
   "metadata": {
    "collapsed": false
   },
   "outputs": [],
   "source": [
    "mean = torch.Tensor([0.485, 0.456, 0.406]).half().float().to(device)\n",
    "std = torch.Tensor([0.229, 0.224, 0.225]).half().float().to(device)\n",
    "\n",
    "\n",
    "def preprocess(image):\n",
    "    image = PIL.Image.fromarray(image)\n",
    "    image = transforms.functional.to_tensor(image).to(device)\n",
    "    image.sub_(mean[:, None, None]).div_(std[:, None, None])\n",
    "    return image[None, ...]\n",
    "\n",
    "normalize = torchvision.transforms.Normalize(mean, std)\n",
    "\n",
    "def preprocess_2(image):\n",
    "    global device, normalize\n",
    "    x_2 = image\n",
    "    x_2 = cv2.cvtColor(x_2, cv2.COLOR_BGR2RGB)\n",
    "    x_2 = x_2.transpose((2, 0, 1))\n",
    "    x_2 = torch.from_numpy(x_2).float()\n",
    "    x_2 = normalize(x_2)\n",
    "    x_2 = x_2.to(device)\n",
    "    x_2 = x_2[None, ...]\n",
    "    return x_2\n"
   ]
  },
  {
   "cell_type": "code",
   "execution_count": null,
   "metadata": {
    "collapsed": false
   },
   "outputs": [],
   "source": [
    "camera = Camera.instance(width=224, height=224, fps=10)"
   ]
  },
  {
   "cell_type": "code",
   "execution_count": null,
   "metadata": {
    "collapsed": false
   },
   "outputs": [],
   "source": [
    "image_widget = widgets.Image()\n",
    "image_vis_widget = widgets.Image()\n",
    "\n",
    "speed_output = widgets.Text(\n",
    "    value='',\n",
    "    placeholder='',\n",
    "    description='(l,r):',\n",
    "    disabled=True\n",
    ")\n",
    "\n",
    "model_output = widgets.Textarea(\n",
    "    value='',\n",
    "    placeholder='Type something',\n",
    "    description='Model:',\n",
    "    disabled=False\n",
    ")\n",
    "\n",
    "traitlets.dlink((camera, 'value'), (image_widget, 'value'), transform=bgr8_to_jpeg)"
   ]
  },
  {
   "cell_type": "code",
   "execution_count": null,
   "metadata": {
    "collapsed": false
   },
   "outputs": [],
   "source": [
    "# Road Following sliders\n",
    "speed_control_slider = widgets.FloatSlider(value=0.1, min=0.0, max=1.0, step=0.01, description='speed control')\n",
    "steering_gain_slider = widgets.FloatSlider(min=0.0, max=1.0, step=0.01, value=0.04, description='steering gain')\n",
    "steering_kd_gain_slider = widgets.FloatSlider(min=0.0, max=0.5, step=0.001, value=0.0, description='steering kd')\n",
    "steering_bias_slider = widgets.FloatSlider(min=-0.3, max=0.3, step=0.01, value=0.0, description='steering bias')\n",
    "\n",
    "display(speed_control_slider, steering_gain_slider, steering_kd_gain_slider, steering_bias_slider)\n",
    "\n",
    "#Collision Avoidance sliders\n",
    "blocked_slider = widgets.FloatSlider(min=0.0, max=1.0, orientation='horizontal', description='blocked')\n",
    "stopduration_slider = widgets.IntSlider(min=1, max=1000, step=1, value=10, description='time for stop')\n",
    "blocked_threshold = widgets.FloatSlider(min=0, max=1.0, step=0.01, value=0.8, description='blocked threshold')\n",
    "\n",
    "sign_verbot_slider = widgets.FloatSlider(description='signVERBOT', min=0.0, max=1.0, orientation='vertical')\n",
    "sign_limit_slider = widgets.FloatSlider(description='signLIMIT', min=0.0, max=1.0, orientation='vertical')\n",
    "sign_stop_slider = widgets.FloatSlider(description='signSTOP', min=0.0, max=1.0, orientation='vertical')\n",
    "kreuzung_slider = widgets.FloatSlider(description='Kreuzung', min=0.0, max=1.0, orientation='vertical')\n",
    "\n",
    "toggle_exec_btn = widgets.ToggleButton(\n",
    "    value=False,\n",
    "    description='Start',\n",
    "    disabled=False,\n",
    "    button_style='success',\n",
    "    tooltip='Description',\n",
    "    icon='check'\n",
    ")\n",
    "display(toggle_exec_btn)\n",
    "\n",
    "display(widgets.HBox([image_widget, image_vis_widget]))\n",
    "display(speed_output)\n",
    "\n",
    "display(widgets.HBox([blocked_slider, blocked_threshold, stopduration_slider]))\n",
    "display(widgets.HBox([sign_stop_slider, sign_limit_slider, sign_verbot_slider, kreuzung_slider]))"
   ]
  },
  {
   "cell_type": "code",
   "execution_count": null,
   "metadata": {
    "collapsed": false
   },
   "outputs": [],
   "source": [
    "speed_control, steer_gain, steer_kd_gain, steer_bias = speed_control_slider.value, 0.0, 0.0, 0.0"
   ]
  },
  {
   "cell_type": "code",
   "execution_count": null,
   "metadata": {
    "collapsed": false
   },
   "outputs": [],
   "source": [
    "#robot = CustomRobot()"
   ]
  },
  {
   "cell_type": "code",
   "execution_count": null,
   "metadata": {
    "collapsed": false
   },
   "outputs": [],
   "source": [
    "a_slider = widgets.FloatSlider(min=-math.pi, max=math.pi, step=0.01, description='a')\n",
    "xy_out = widgets.Text()\n",
    "display(a_slider, xy_out)"
   ]
  },
  {
   "cell_type": "code",
   "execution_count": null,
   "metadata": {
    "collapsed": false
   },
   "outputs": [],
   "source": [
    "def calculate_speed(last_a: float, x_in: float, y_in: float) -> (float, float, float):\n",
    "    global a_slider\n",
    "    a = math.atan2(x_in, y_in)\n",
    "    a_slider.value = a\n",
    "    xy_out.value = f\"({x:.02f} {y:.02f})\"\n",
    "    pid = a * steer_gain + (a - last_a) * steer_kd_gain\n",
    "    steer_val = pid + steer_bias\n",
    "    left = max(min(speed_control + steer_val, 1.0), 0.0)\n",
    "    right = max(min(speed_control - steer_val, 1.0), 0.0)\n",
    "    return a, left, right"
   ]
  },
  {
   "cell_type": "code",
   "execution_count": null,
   "metadata": {
    "collapsed": false
   },
   "outputs": [],
   "source": [
    "def get_collision_chance(image) -> float:\n",
    "    collision = model_collision(image)\n",
    "    collision_softmax = functional.softmax(collision, dim=1).flatten()\n",
    "    return float(collision_softmax[0])\n",
    "\n",
    "def get_kreuzung_chance(image) -> float:\n",
    "    kreuzung = model_kreuzung(image)\n",
    "    kreuzung_softmax = functional.softmax(kreuzung, dim=1).flatten()\n",
    "    return float(kreuzung_softmax[0])"
   ]
  },
  {
   "cell_type": "code",
   "execution_count": 1,
   "metadata": {
    "collapsed": false
   },
   "outputs": [],
   "source": [
    "def get_road_direction(image) -> (float, float):\n",
    "    model_xy = model_road(image).detach().float().cpu().numpy().flatten()\n",
    "    model_x = model_xy[0]\n",
    "    model_y = (0.5 - model_xy[1]) / 2.0\n",
    "    return model_x, model_y\n",
    "def get_motor_ratio_L2R():\n",
    "    return customRobot.left_motor.value / customRobot.right_motor.value\n",
    "\n",
    "# Beispiel: offset ist 0.02\n",
    "#            left_motor.value ist 0.15\n",
    "#            right_motor.value ist 0.11\n",
    "#    --> L2R ist 1.37 --> left 0.12, right 0.08\n",
    "def dec_motor_speed_according_to_ratio(the_motor, l2r, offset):\n",
    "    temp_speed = the_motor.value - (offset + 2 * offset * the_motor.value * l2r )\n",
    "    if temp_speed < 0:\n",
    "        temp_speed = 0\n",
    "    return temp_speed"
   ]
  },
  {
   "cell_type": "code",
   "execution_count": null,
   "outputs": [],
   "source": [],
   "metadata": {
    "collapsed": false
   }
  },
  {
   "cell_type": "code",
   "execution_count": null,
   "outputs": [],
   "source": [],
   "metadata": {
    "collapsed": false
   }
  },
  {
   "cell_type": "code",
   "execution_count": 0,
   "outputs": [],
   "source": [
    "angle, angle_last, stop_counter = 0.0, 0.0, 0\n",
    "stop_counter_limit = 10\n",
    "x, y = 0.0, 0.0\n",
    "frame_counter = 0\n",
    "\n",
    "speed_default = 0.15\n",
    "speed_prev_left = 0.15\n",
    "speed_prev_right = 0.15\n",
    "threshold_probability = 0.8 # at least 80% certainty required for flag\n",
    "threshold_frames = 5 # at least 5 times in row 0.8 required for flag to be set\n",
    "\n",
    "class IObserver:\n",
    "    def update(self):\n",
    "        pass\n",
    "\n",
    "class IObservable:\n",
    "    _observers = [] #indicating arrays with _\n",
    "    def attach(self, observer):\n",
    "        if not observer in self._observers:\n",
    "            self._observers.append(observer)\n",
    "    def detatch(self, observer):\n",
    "        if observer in self._observers:\n",
    "            self._observers.remove(observer)\n",
    "    def notify(self):\n",
    "        for observer in self._observers:\n",
    "            observer.update()\n",
    "\n",
    "class CustomRobot(Robot, IObserver):\n",
    "    _ourObjects = []\n",
    "    def setOurObjects(self, _ourObjects):\n",
    "        self._ourObjects = _ourObjects\n",
    "    def doYourThing(self):\n",
    "        ###\n",
    "        #    @todo STATE MODEL DECIDES ACTIONS BASED ON ourObject statuses. Call ourObject reactTo() methods in smart order. Decide if should follow the yellow line (PoI)\n",
    "        ###\n",
    "\n",
    "    def update(self, _probabilities): # ACHTUNG: setzt voraus, dass _probabilities und _ourObjects gleiche Reihenfolge haben !!!\n",
    "        i = 0\n",
    "        for ourObject in self._ourObjects:\n",
    "            ourObject.setPresence(_probabilities[i])\n",
    "            i+=1\n",
    "        self.doYourThing()\n",
    "\n",
    "class Scout(IObservable):\n",
    "    _models = []\n",
    "    device = torch.device('cuda')\n",
    "    def __init__(self, _models, customRobot):\n",
    "        self._models = _models\n",
    "        self.attach(customRobot)\n",
    "\n",
    "    def createUIelements(self):\n",
    "\n",
    "    def takeNewFrame(self):\n",
    "\n",
    "    def feedImageToModels(self):\n",
    "\n",
    "\n",
    "\n",
    "class OurObject:\n",
    "    frames_saw_in_row = 0\n",
    "    frames_not_saw_in_row = 0 # Anzahl aufeinander folgender Frames in der ein is_present Objekt nicht mehr sichtbar ist\n",
    "    is_present = False\n",
    "    was_present = False\n",
    "\n",
    "    # Beispiel: threshold_frames ist 4, threshold_probability ist 0.8\n",
    "    # --> wenn 4 Frames hintereinander Stop-Schild zu 80% gesehen wurde, obj_sign_Stop.is_present auf True setzen\n",
    "    # ansonsten counter reseten und not_saw counter erhöhen und is_present auf False setzen wenn not_saw counter 4 Frames erreicht.\n",
    "    # was_present wird erst True, wenn davor is_present galt und jetzt nicht mehr\n",
    "    # was_present wird in der jeweiligen reactTo() Methode auf False zurückgesetzt, wenn die entsprechend letzte Handlung durchgeführt wird.\n",
    "    def setPresence(self, probability_present): # zum Beispiel prob_Kreuzung oder prob_Verbot oder ...\n",
    "        if probability_present > threshold_probability:\n",
    "            self.frames_saw_in_row += 1\n",
    "            self.frames_not_saw_in_row = 0\n",
    "            self.is_present = self.frames_saw_in_row > threshold_frames\n",
    "        else:\n",
    "            self.frames_saw_in_row = 0\n",
    "            if self.is_present:\n",
    "                self.frames_not_saw_in_row += 1\n",
    "                if self.frames_not_saw_in_row > threshold_frames:\n",
    "                    self.was_present = True\n",
    "                    self.is_present = False\n",
    "\n",
    "class Kreuzung(OurObject):\n",
    "    def reactTo(self):\n",
    "        if self.is_present:\n",
    "            customRobot.set_motor_speeds(0.11, 0.11)\n",
    "        else:\n",
    "            customRobot.set_motor_speeds(0.15, 0.15)\n",
    "            self.was_present = False\n",
    "\n",
    "class SignVerbot(OurObject):\n",
    "    phase = 0\n",
    "\n",
    "    def __init__(self, objKreuzung):\n",
    "        self.objKreuzung = objKreuzung\n",
    "\n",
    "    def tryRight(self):\n",
    "        customRobot.right(0.3)\n",
    "        time.sleep(0.5)\n",
    "        self.phase = 1\n",
    "\n",
    "    def tryLeft(self):\n",
    "        customRobot.left(0.3)\n",
    "        time.sleep(1)\n",
    "        self.phase = 2\n",
    "\n",
    "    def goBackWhereYouCameFrom(self):\n",
    "        customRobot.left(0.3)\n",
    "        time.sleep(0.5)\n",
    "        customRobot.set_motor_speeds(0.11, 0.11)\n",
    "        self.phase = 0\n",
    "        self.was_present = False\n",
    "\n",
    "    def driveInCurrentDirection(self):\n",
    "        customRobot.set_motor_speeds(0.11, 0.11)\n",
    "        self.phase = 0\n",
    "        self.was_present = False\n",
    "\n",
    "    def reactTo(self):\n",
    "        if self.phase == 0:\n",
    "            if self.is_present:\n",
    "                self.tryRight()\n",
    "        elif self.phase == 1:\n",
    "            if not self.objKreuzung.is_present:\n",
    "                self.tryLeft()\n",
    "            else:\n",
    "                self.driveInCurrentDirection()\n",
    "        elif self.phase == 2:\n",
    "            if not self.objKreuzung.is_present:\n",
    "                self.goBackWhereYouCameFrom()\n",
    "            else:\n",
    "                self.driveInCurrentDirection()\n",
    "\n",
    "class SignLimit(OurObject):\n",
    "    def __init__(self, objKreuzung):\n",
    "        self.objKreuzung = objKreuzung\n",
    "\n",
    "    def reactTo(self):\n",
    "        if self.is_present:\n",
    "            customRobot.set_motor_speeds(0.12, 0.12)\n",
    "        elif self.objKreuzung.is_present:\n",
    "            self.was_present = False\n",
    "\n",
    "class SignStop(OurObject):\n",
    "    def reactTo(self):\n",
    "        if self.was_present:\n",
    "            customRobot.stop()\n",
    "            time.sleep(3)\n",
    "            customRobot.set_motor_speeds(0.11, 0.11)\n",
    "            self.was_present = False\n",
    "\n",
    "class Obstacle(OurObject):\n",
    "    phase = 0\n",
    "    timer = 0\n",
    "    patience = 5 #seconds\n",
    "\n",
    "    def goOn(self):\n",
    "        customRobot.set_motor_speeds(0.11, 0.11)\n",
    "        self.was_present = False\n",
    "        self.phase = 0\n",
    "\n",
    "    def stayAndWait(self):\n",
    "        customRobot.stop()\n",
    "        self.timer = time.time()\n",
    "        self.phase = 1\n",
    "\n",
    "    def turnBack(self): # kurz rückwärts, 180° Wende, weiterfahren\n",
    "        customRobot.backward(0.3)\n",
    "        time.sleep(0.5) #@todo timer Rechnungen statt sleep\n",
    "        customRobot.stop()\n",
    "        customRobot.left(0.3)\n",
    "        time.sleep(1)\n",
    "        customRobot.stop()\n",
    "        customRobot.set_motor_speeds(0.11, 0.11)\n",
    "        self.phase = 0\n",
    "        self.was_present = False\n",
    "\n",
    "    def reactTo(self):\n",
    "        if self.is_present:\n",
    "            if self.phase == 0:\n",
    "                self.stayAndWait()\n",
    "            elif self.phase == 1:\n",
    "                if not self.is_present:\n",
    "                    self.goOn()\n",
    "                elif time.time() - self.timer > self.patience:\n",
    "                    self.turnBack() # @todo, soll nur 180° Wende machen, wenn es links und rechts keinen Ausweg gibt\n"
   ],
   "metadata": {
    "collapsed": false
   }
  },
  {
   "cell_type": "code",
   "execution_count": 3,
   "outputs": [
    {
     "ename": "IndentationError",
     "evalue": "expected an indented block (2278962894.py, line 72)",
     "output_type": "error",
     "traceback": [
      "\u001B[1;36m  Cell \u001B[1;32mIn[3], line 72\u001B[1;36m\u001B[0m\n\u001B[1;33m    obj_Kreuzung = OurObject(OurObject.was_present) #Kreuzung gilt nicht mehr, wenn Kreuzung nicht mehr present ist\u001B[0m\n\u001B[1;37m                                                                                                                   ^\u001B[0m\n\u001B[1;31mIndentationError\u001B[0m\u001B[1;31m:\u001B[0m expected an indented block\n"
     ]
    }
   ],
   "source": [
    "\n",
    "signStop = SignStop()\n",
    "kreuzung = Kreuzung()\n",
    "signLimit = SignLimit(kreuzung)\n",
    "signVerbot = SignVerbot(kreuzung)\n",
    "obstacle = Obstacle()\n",
    "\n",
    "customRobot = CustomRobot()\n",
    "customRobot.setOurObjects([obstacle, signVerbot, signStop, kreuzung, signLimit])\n",
    "#scout = Scout(#liste-der-modelle#, customRobot)\n"
   ],
   "metadata": {
    "collapsed": false
   }
  },
  {
   "cell_type": "code",
   "execution_count": null,
   "outputs": [],
   "source": [
    "\n",
    "def execute(change):\n",
    "    global angle, angle_last, blocked_slider, customRobot, stop_counter, stop_counter_limit, x, y, blocked_threshold\n",
    "    global speed_control, steer_gain, steer_kd_gain, steer_bias, frame_counter\n",
    "    global speed_default, speed_prev_right, speed_prev_left, threshold_probability, saw_kreuzung,saw_sign_stop, saw_sign_limit, saw_sign_verbot, is_blocked, num_turns_verbot, num_blocks, num_rueckwaerts, nichtmehr_kreuzung, nichtmehr_Stop, nichtmehr_Limit, nichtmehr_Verbot, nichtmehr_blocked\n",
    "    global image, image_preproc, x_2, y_2, steer_gain, steer_kd_gain, steer_bias, stop_counter_limit, max_speed, prob_blocked, prob_sign_verbot, prob_sign_limit, prob_sign_stop, prob_kreuzung\n",
    "\n",
    "    image = change['new']\n",
    "    image_preproc = preprocess(image).to(device)\n",
    "    x_2 = image\n",
    "    x_2 = preprocess_2(x_2)\n",
    "    y_2 = model_signs(x_2)\n",
    "    y_2 = functional.softmax(y_2, dim=1)\n",
    "\n",
    "    #@todo NICHT ALLES IN JEDEM FRAME\n",
    "    #@todo kreuzung model (Fotos machen, trainieren --> kreuzung_model.pth)\n",
    "\n",
    "    # get slider values\n",
    "    steer_gain = steering_gain_slider.value\n",
    "    steer_kd_gain = steering_kd_gain_slider.value\n",
    "    steer_bias = steering_bias_slider.value\n",
    "    stop_counter_limit = stopduration_slider.value\n",
    "    max_speed = speed_control_slider.value\n",
    "\n",
    "    prob_blocked = get_collision_chance(image_preproc)\n",
    "    blocked_slider.value = prob_blocked\n",
    "\n",
    "    prob_sign_verbot = float(y_2.flatten()[0])\n",
    "    prob_sign_limit = float(y_2.flatten()[1])\n",
    "    prob_sign_stop = float(y_2.flatten()[2])\n",
    "\n",
    "    sign_verbot_slider.value = prob_sign_verbot # + prob_not_blocked - 1 # result should always be 0\n",
    "    sign_limit_slider.value = prob_sign_limit\n",
    "    sign_stop_slider.value = prob_sign_stop\n",
    "\n",
    "    prob_kreuzung = get_kreuzung_chance(image_preproc)\n",
    "    kreuzung_slider.value = prob_kreuzung\n",
    "\n",
    "    '''\n",
    "    Verbale Beschreibung, was das Programm tun soll:\n",
    "\n",
    "    Wenn der Roboter blockiert ist und die Flag noch nicht gesetzt wurde,\n",
    "    Flag setzen und schrittweise abbremsen.\n",
    "    Im Stillstand bis zu 20 Frames warten, danach Rückwärtsgang einlegen.\n",
    "\n",
    "    Flag bei Kreuzung setzen und langsamer werden, nach Kreuzung schneller werden (unideal bei Kurven aber egal)\n",
    "\n",
    "    Bei Speedlimits ggf. langsamer werden. Speedlimits gelten bis zur nächsten Kreuzung.\n",
    "\n",
    "    Bei Stopschildern Flag setzen und anhalten, wenn es nicht mehr sichtbar ist, 3s warten. (erfordert, Stopschild an gute Position zu setzen)\n",
    "\n",
    "    Bei Durchfahrtverbotsschild 90° im Uhrzeigersinn (rechts) drehen. Bei Kreuzung weiterfahren,\n",
    "    ansonsten 180° gegen den Uhrzeigersinn drehen. Bei Kreuzung weiterfahren,\n",
    "    ansonsten 90° gegen den Uhrzeigersinn drehen und wieder zurück fahren\n",
    "\n",
    "    Im Falle, dass der Roboter nicht im Rückwärtsgang ist oder sich bei Durchfahrtverbot dreht oder warten muss, den Road-Following Koordinaten (PoI) folgen\n",
    "\n",
    "    Flags werden entsprechend wieder zurückgesetzt (hoffentlich)\n",
    "    '''\n",
    "\n",
    "    #@todo Scout, CustomRobot, mehrere OurObject erzeugen und laufen lassen\n",
    "\n",
    "    '''\n",
    "    if frame_counter % camera.fps == 0:\n",
    "        frame_counter = 0\n",
    "\n",
    "        snapshot = image.copy()\n",
    "        snapshot = cv2.circle(snapshot, (int(x * snapshot.width), int(y * snapshot.height)), 8, (0, 255, 0), 3)\n",
    "        image_vis_widget.value = bgr8_to_jpeg(snapshot)\n",
    "    frame_counter += 1\n",
    "    '''\n",
    "\n",
    "execute({'new': camera.value})"
   ],
   "metadata": {
    "collapsed": false
   }
  },
  {
   "cell_type": "code",
   "execution_count": null,
   "outputs": [],
   "source": [
    "def start_stop_toggle(obj):\n",
    "    if obj[\"new\"]:\n",
    "        toggle_exec_btn.button_style = 'warning'\n",
    "        toggle_exec_btn.icon = 'warning'\n",
    "        toggle_exec_btn.description = \"Stop\"\n",
    "        camera.observe(execute, names='value')\n",
    "    else:\n",
    "        toggle_exec_btn.button_style = 'success'\n",
    "        toggle_exec_btn.icon = 'check'\n",
    "        toggle_exec_btn.description = 'Start'\n",
    "        camera.unobserve(execute, names='value')\n",
    "        time.sleep(0.1)\n",
    "        customRobot.stop()\n",
    "\n",
    "\n",
    "toggle_exec_btn.observe(start_stop_toggle, 'value')"
   ],
   "metadata": {
    "collapsed": false
   }
  },
  {
   "cell_type": "code",
   "execution_count": null,
   "outputs": [],
   "source": [],
   "metadata": {
    "collapsed": false
   }
  },
  {
   "cell_type": "code",
   "execution_count": 1,
   "outputs": [
    {
     "ename": "IndentationError",
     "evalue": "expected an indented block (574240453.py, line 81)",
     "output_type": "error",
     "traceback": [
      "\u001B[1;36m  Cell \u001B[1;32mIn[1], line 81\u001B[1;36m\u001B[0m\n\u001B[1;33m    angle, left, right = calculate_speed(angle_last, x, y)\u001B[0m\n\u001B[1;37m    ^\u001B[0m\n\u001B[1;31mIndentationError\u001B[0m\u001B[1;31m:\u001B[0m expected an indented block\n"
     ]
    }
   ],
   "source": [],
   "metadata": {
    "collapsed": false
   }
  },
  {
   "cell_type": "code",
   "execution_count": null,
   "outputs": [],
   "source": [
    "def start_stop_toggle(obj):\n",
    "    if obj[\"new\"]:\n",
    "        toggle_exec_btn.button_style = 'warning'\n",
    "        toggle_exec_btn.icon = 'warning'\n",
    "        toggle_exec_btn.description = \"Stop\"\n",
    "        camera.observe(execute, names='value')\n",
    "    else:\n",
    "        toggle_exec_btn.button_style = 'success'\n",
    "        toggle_exec_btn.icon = 'check'\n",
    "        toggle_exec_btn.description = 'Start'\n",
    "        camera.unobserve(execute, names='value')\n",
    "        time.sleep(0.1)\n",
    "        customRobot.stop()\n",
    "\n",
    "\n",
    "toggle_exec_btn.observe(start_stop_toggle, 'value')"
   ],
   "metadata": {
    "collapsed": false
   }
  },
  {
   "cell_type": "code",
   "execution_count": null,
   "metadata": {
    "collapsed": false
   },
   "outputs": [],
   "source": []
  },
  {
   "cell_type": "code",
   "execution_count": null,
   "metadata": {
    "collapsed": false
   },
   "outputs": [],
   "source": []
  },
  {
   "cell_type": "code",
   "execution_count": null,
   "metadata": {
    "collapsed": false,
    "pycharm": {
     "is_executing": true
    }
   },
   "outputs": [],
   "source": []
  },
  {
   "cell_type": "code",
   "execution_count": null,
   "metadata": {
    "collapsed": false,
    "pycharm": {
     "is_executing": true
    }
   },
   "outputs": [],
   "source": []
  },
  {
   "cell_type": "code",
   "execution_count": null,
   "metadata": {
    "collapsed": false,
    "pycharm": {
     "is_executing": true
    }
   },
   "outputs": [],
   "source": []
  },
  {
   "cell_type": "code",
   "execution_count": null,
   "metadata": {
    "collapsed": false,
    "pycharm": {
     "is_executing": true
    }
   },
   "outputs": [],
   "source": []
  },
  {
   "cell_type": "code",
   "execution_count": null,
   "metadata": {
    "collapsed": false,
    "pycharm": {
     "is_executing": true
    }
   },
   "outputs": [],
   "source": []
  },
  {
   "cell_type": "code",
   "execution_count": null,
   "metadata": {
    "collapsed": false,
    "pycharm": {
     "is_executing": true
    }
   },
   "outputs": [],
   "source": []
  },
  {
   "cell_type": "code",
   "execution_count": null,
   "metadata": {
    "collapsed": false
   },
   "outputs": [],
   "source": []
  }
 ],
 "metadata": {
  "kernelspec": {
   "display_name": "Python 3",
   "language": "python",
   "name": "python3"
  },
  "language_info": {
   "codemirror_mode": {
    "name": "ipython",
    "version": 2
   },
   "file_extension": ".py",
   "mimetype": "text/x-python",
   "name": "python",
   "nbconvert_exporter": "python",
   "pygments_lexer": "ipython2",
   "version": "2.7.6"
  }
 },
 "nbformat": 4,
 "nbformat_minor": 0
}
