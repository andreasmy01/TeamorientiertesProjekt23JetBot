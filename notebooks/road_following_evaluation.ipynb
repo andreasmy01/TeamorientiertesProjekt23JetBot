{
 "cells": [
  {
   "cell_type": "code",
   "execution_count": null,
   "metadata": {},
   "outputs": [],
   "source": [
    "import os\n",
    "from uuid import uuid1\n",
    "\n",
    "import ipywidgets as widgets\n",
    "from IPython.display import display\n",
    "from ipycanvas import Canvas\n",
    "from ipywidgets import Image\n"
   ]
  },
  {
   "cell_type": "code",
   "execution_count": null,
   "metadata": {},
   "outputs": [],
   "source": [
    "img_list = []\n",
    "for root, dirs, files in os.walk(\"img\", topdown=False):\n",
    "    for name in files:\n",
    "        img_list.append(root + \"/\" + name)"
   ]
  },
  {
   "cell_type": "code",
   "execution_count": null,
   "metadata": {},
   "outputs": [],
   "source": [
    "counter = 0\n",
    "\n",
    "btn_next = widgets.Button(\n",
    "    description=\"Next\"\n",
    ")\n",
    "\n",
    "btn_skip = widgets.Button(\n",
    "    description=\"Skip\"\n",
    ")\n",
    "\n",
    "out = widgets.Output()"
   ]
  },
  {
   "cell_type": "code",
   "execution_count": null,
   "metadata": {},
   "outputs": [],
   "source": [
    "DATASET_DIR = 'dataset_xy'\n",
    "DATASET_DIR_UNKNOWN = 'dataset_unknown'\n",
    "\n",
    "try:\n",
    "    os.makedirs(DATASET_DIR)\n",
    "except FileExistsError:\n",
    "    print('Directories not created because they already exist')\n",
    "\n",
    "try:\n",
    "    os.makedirs(DATASET_DIR_UNKNOWN)\n",
    "except FileExistsError:\n",
    "    print('Directories not created because they already exist')"
   ]
  },
  {
   "cell_type": "code",
   "execution_count": null,
   "metadata": {},
   "outputs": [],
   "source": [
    "canvas = Canvas(width=224, height=224)"
   ]
  },
  {
   "cell_type": "code",
   "execution_count": null,
   "metadata": {},
   "outputs": [],
   "source": [
    "x, y = None, None\n",
    "image_path = None\n",
    "\n",
    "\n",
    "@out.capture()\n",
    "def on_canvas_click(x_in, y_in):\n",
    "    global x, y\n",
    "    x = int(x_in)\n",
    "    y = int(y_in)\n",
    "    print(f\"{x} {y}\")\n",
    "    canvas.restore()\n",
    "    canvas.stroke_style = \"#00ff00\"\n",
    "    canvas.stroke_circle(x, y, 8)\n",
    "\n",
    "\n",
    "def skip_snapshot():\n",
    "    if image_path is not None:\n",
    "        uuid = '%s' % (uuid1())\n",
    "        new_image_path = os.path.join(DATASET_DIR_UNKNOWN, uuid + '.jpg')\n",
    "        os.rename(image_path, new_image_path)\n",
    "\n",
    "\n",
    "def save_snapshot():\n",
    "    if image_path is not None:\n",
    "        uuid = 'xy_%03d_%03d_%s' % (x, y, uuid1())\n",
    "        new_image_path = os.path.join(DATASET_DIR, uuid + '.jpg')\n",
    "        os.rename(image_path, new_image_path)\n",
    "\n",
    "\n",
    "def next_image():\n",
    "    global image_path, counter, x, y\n",
    "    canvas.clear()\n",
    "    out.clear_output()\n",
    "\n",
    "    if len(img_list) - 1 < counter:\n",
    "        btn_next.disabled = True\n",
    "        btn_skip.disabled = True\n",
    "    else:\n",
    "        image_path = img_list[counter]\n",
    "        image = Image.from_file(image_path)\n",
    "\n",
    "        canvas.draw_image(image, width=224, height=224)\n",
    "        canvas.save()\n",
    "        counter += 1\n",
    "\n",
    "        x, y = None, None\n",
    "\n",
    "\n",
    "def on_click_skip(b=None):\n",
    "    skip_snapshot()\n",
    "    next_image()\n",
    "\n",
    "\n",
    "def on_click_next(b=None):\n",
    "    if x is not None and y is not None:\n",
    "        save_snapshot()\n",
    "        next_image()\n",
    "\n",
    "\n",
    "btn_skip.on_click(on_click_skip)\n",
    "btn_next.on_click(on_click_next)\n",
    "canvas.on_mouse_down(on_canvas_click)\n",
    "\n",
    "next_image()"
   ]
  },
  {
   "cell_type": "code",
   "execution_count": null,
   "metadata": {},
   "outputs": [],
   "source": [
    "data_collection_widget = widgets.VBox([\n",
    "    widgets.HBox([canvas]),\n",
    "    widgets.HBox([btn_skip, btn_next]),\n",
    "])\n",
    "display(data_collection_widget)\n",
    "display(out)"
   ]
  },
  {
   "cell_type": "code",
   "execution_count": null,
   "metadata": {},
   "outputs": [],
   "source": []
  },
  {
   "cell_type": "code",
   "execution_count": null,
   "metadata": {},
   "outputs": [],
   "source": []
  }
 ],
 "metadata": {
  "kernelspec": {
   "display_name": "Python 3",
   "language": "python",
   "name": "python3"
  },
  "language_info": {
   "codemirror_mode": {
    "name": "ipython",
    "version": 3
   },
   "file_extension": ".py",
   "mimetype": "text/x-python",
   "name": "python",
   "nbconvert_exporter": "python",
   "pygments_lexer": "ipython3",
   "version": "3.9.11"
  }
 },
 "nbformat": 4,
 "nbformat_minor": 1
}
