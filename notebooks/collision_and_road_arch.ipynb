{
 "cells": [
  {
   "cell_type": "markdown",
   "id": "studied-cabin",
   "metadata": {
    "collapsed": false
   },
   "source": [
    "# Skript für den Jetbot der Roadfollowing und Collision Avoidance kombiniert"
   ]
  },
  {
   "cell_type": "code",
   "execution_count": 1,
   "id": "finite-holiday",
   "metadata": {
    "trusted": false
   },
   "outputs": [
    {
     "ename": "ModuleNotFoundError",
     "evalue": "No module named 'Adafruit_MotorHAT'",
     "output_type": "error",
     "traceback": [
      "\u001B[0;31m---------------------------------------------------------------------------\u001B[0m",
      "\u001B[0;31mModuleNotFoundError\u001B[0m                       Traceback (most recent call last)",
      "Input \u001B[0;32mIn [1]\u001B[0m, in \u001B[0;36m<cell line: 10>\u001B[0;34m()\u001B[0m\n\u001B[1;32m      7\u001B[0m \u001B[38;5;28;01mfrom\u001B[39;00m \u001B[38;5;21;01mIPython\u001B[39;00m\u001B[38;5;21;01m.\u001B[39;00m\u001B[38;5;21;01mdisplay\u001B[39;00m \u001B[38;5;28;01mimport\u001B[39;00m display\n\u001B[1;32m      8\u001B[0m \u001B[38;5;28;01mfrom\u001B[39;00m \u001B[38;5;21;01mtorch\u001B[39;00m \u001B[38;5;28;01mimport\u001B[39;00m Tensor, functional\n\u001B[0;32m---> 10\u001B[0m \u001B[38;5;28;01mfrom\u001B[39;00m \u001B[38;5;21;01mjetbot\u001B[39;00m \u001B[38;5;28;01mimport\u001B[39;00m Camera, bgr8_to_jpeg\n\u001B[1;32m     11\u001B[0m \u001B[38;5;28;01mfrom\u001B[39;00m \u001B[38;5;21;01mlib\u001B[39;00m\u001B[38;5;21;01m.\u001B[39;00m\u001B[38;5;21;01mExtendedRobot\u001B[39;00m \u001B[38;5;28;01mimport\u001B[39;00m ExtendedRobot, Handel, ReturnData, ReturnCommand\n",
      "File \u001B[0;32m~/_project/jetbot/jetbot/__init__.py:3\u001B[0m, in \u001B[0;36m<module>\u001B[0;34m\u001B[0m\n\u001B[1;32m      1\u001B[0m \u001B[38;5;28;01mfrom\u001B[39;00m \u001B[38;5;21;01m.\u001B[39;00m\u001B[38;5;21;01mcamera\u001B[39;00m \u001B[38;5;28;01mimport\u001B[39;00m Camera\n\u001B[1;32m      2\u001B[0m \u001B[38;5;28;01mfrom\u001B[39;00m \u001B[38;5;21;01m.\u001B[39;00m\u001B[38;5;21;01mheartbeat\u001B[39;00m \u001B[38;5;28;01mimport\u001B[39;00m Heartbeat\n\u001B[0;32m----> 3\u001B[0m \u001B[38;5;28;01mfrom\u001B[39;00m \u001B[38;5;21;01m.\u001B[39;00m\u001B[38;5;21;01mmotor\u001B[39;00m \u001B[38;5;28;01mimport\u001B[39;00m Motor\n\u001B[1;32m      4\u001B[0m \u001B[38;5;28;01mfrom\u001B[39;00m \u001B[38;5;21;01m.\u001B[39;00m\u001B[38;5;21;01mrobot\u001B[39;00m \u001B[38;5;28;01mimport\u001B[39;00m Robot\n\u001B[1;32m      5\u001B[0m \u001B[38;5;28;01mfrom\u001B[39;00m \u001B[38;5;21;01m.\u001B[39;00m\u001B[38;5;21;01mimage\u001B[39;00m \u001B[38;5;28;01mimport\u001B[39;00m bgr8_to_jpeg\n",
      "File \u001B[0;32m~/_project/jetbot/jetbot/motor.py:2\u001B[0m, in \u001B[0;36m<module>\u001B[0;34m\u001B[0m\n\u001B[1;32m      1\u001B[0m \u001B[38;5;28;01mimport\u001B[39;00m \u001B[38;5;21;01matexit\u001B[39;00m\n\u001B[0;32m----> 2\u001B[0m \u001B[38;5;28;01mfrom\u001B[39;00m \u001B[38;5;21;01mAdafruit_MotorHAT\u001B[39;00m \u001B[38;5;28;01mimport\u001B[39;00m Adafruit_MotorHAT\n\u001B[1;32m      3\u001B[0m \u001B[38;5;28;01mimport\u001B[39;00m \u001B[38;5;21;01mtraitlets\u001B[39;00m\n\u001B[1;32m      4\u001B[0m \u001B[38;5;28;01mfrom\u001B[39;00m \u001B[38;5;21;01mtraitlets\u001B[39;00m\u001B[38;5;21;01m.\u001B[39;00m\u001B[38;5;21;01mconfig\u001B[39;00m\u001B[38;5;21;01m.\u001B[39;00m\u001B[38;5;21;01mconfigurable\u001B[39;00m \u001B[38;5;28;01mimport\u001B[39;00m Configurable\n",
      "\u001B[0;31mModuleNotFoundError\u001B[0m: No module named 'Adafruit_MotorHAT'"
     ]
    }
   ],
   "source": [
    "\n",
    "from datetime import time\n",
    "\n",
    "import ipywidgets as widgets\n",
    "import torch\n",
    "import torchvision\n",
    "import traitlets\n",
    "from IPython.display import display\n",
    "from torch import Tensor, functional\n",
    "\n",
    "from jetbot import Camera, bgr8_to_jpeg\n",
    "from lib.ExtendedRobot import ExtendedRobot, Handel, ReturnData, ReturnCommand\n"
   ]
  },
  {
   "cell_type": "markdown",
   "id": "chief-salmon",
   "metadata": {
    "collapsed": false
   },
   "source": [
    "Load models"
   ]
  },
  {
   "cell_type": "code",
   "execution_count": null,
   "id": "difficult-dinner",
   "metadata": {
    "trusted": false
   },
   "outputs": [],
   "source": [
    "model_road = torchvision.models.resnet18(pretrained=False)\n",
    "model_road.fc = torch.nn.Linear(512, 2)\n",
    "model_road.load_state_dict(torch.load('best_steering_model_xy.pth'))\n",
    "\n",
    "model_collision = torchvision.models.alexnet(pretrained=False)\n",
    "model_collision.classifier[6] = torch.nn.Linear(model_collision.classifier[6].in_features, 2)\n",
    "model_collision.load_state_dict(torch.load('best_model.pth'))\n",
    "\n",
    "models = {\n",
    "    \"road\": model_road,\n",
    "    \"collision\": model_collision\n",
    "}\n"
   ]
  },
  {
   "cell_type": "markdown",
   "id": "ancient-wonder",
   "metadata": {
    "collapsed": false
   },
   "source": [
    "Add cuda device to models"
   ]
  },
  {
   "cell_type": "code",
   "execution_count": null,
   "id": "destroyed-turtle",
   "metadata": {
    "trusted": false
   },
   "outputs": [],
   "source": [
    "device = torch.device('cuda')\n",
    "model_road = model_road.to(device)\n",
    "model_collision = model_collision.to(device)"
   ]
  },
  {
   "cell_type": "markdown",
   "id": "compressed-champagne",
   "metadata": {
    "collapsed": false
   },
   "source": [
    "Create Camera instance"
   ]
  },
  {
   "cell_type": "code",
   "execution_count": null,
   "id": "democratic-inventory",
   "metadata": {
    "trusted": false
   },
   "outputs": [],
   "source": [
    "camera = Camera.instance(width=224, height=224, fps=10)"
   ]
  },
  {
   "cell_type": "code",
   "execution_count": null,
   "outputs": [],
   "source": [
    "robot: ExtendedRobot = ExtendedRobot(camera, models, device)"
   ],
   "metadata": {
    "collapsed": false
   }
  },
  {
   "cell_type": "markdown",
   "source": [
    "Widget for information and camera feed display"
   ],
   "metadata": {
    "collapsed": false
   }
  },
  {
   "cell_type": "code",
   "execution_count": null,
   "id": "uniform-marking",
   "metadata": {
    "trusted": false
   },
   "outputs": [],
   "source": [
    "image_widget = widgets.Image()\n",
    "\n",
    "traitlets.dlink((camera, 'value'), (image_widget, 'value'), transform=bgr8_to_jpeg)"
   ]
  },
  {
   "cell_type": "markdown",
   "source": [
    "Sliders and information display"
   ],
   "metadata": {
    "collapsed": false
   }
  },
  {
   "cell_type": "code",
   "execution_count": null,
   "id": "recognized-expert",
   "metadata": {
    "collapsed": false,
    "trusted": false
   },
   "outputs": [],
   "source": [
    "#Collision Avoidance sliders\n",
    "blocked_slider = widgets.FloatSlider(min=0.0, max=1.0, orientation='horizontal', description='blocked')\n",
    "\n",
    "toggle_exec_btn = widgets.ToggleButton(\n",
    "    value=False,\n",
    "    description='Start',\n",
    "    disabled=False,\n",
    "    button_style='success',\n",
    "    tooltip='Description',\n",
    "    icon='check'\n",
    ")\n",
    "display(toggle_exec_btn)\n",
    "\n",
    "display(image_widget, blocked_slider)\n"
   ]
  },
  {
   "cell_type": "markdown",
   "source": [
    "Variables for slider controls"
   ],
   "metadata": {
    "collapsed": false
   }
  },
  {
   "cell_type": "code",
   "execution_count": null,
   "outputs": [],
   "source": [
    "\n",
    "\n",
    "class HandelCollision(Handel):\n",
    "\n",
    "    def get_collision_chance(self, model, image) -> float:\n",
    "        collision = model(image)\n",
    "        collision_softmax = functional.softmax(collision, dim=1).flatten()\n",
    "        f = float(collision_softmax[0])\n",
    "\n",
    "        return f\n",
    "\n",
    "    def execute(self, models: {}, image: any, tensor: Tensor, previous_values: list[ReturnData]) -> ReturnData:\n",
    "\n",
    "        f = self.get_collision_chance(models[\"collision\"], image)\n",
    "        if f > 0.8:\n",
    "            return ReturnData(command=ReturnCommand.STOP)\n",
    "        else:\n",
    "            return ReturnData(command=ReturnCommand.CONTINUE)\n",
    "\n",
    "\n",
    "robot.register(HandelCollision())"
   ],
   "metadata": {
    "collapsed": false
   }
  },
  {
   "cell_type": "code",
   "execution_count": null,
   "outputs": [],
   "source": [
    "class HandelRoadFollowing(Handel):\n",
    "\n",
    "    def get_road_direction(self, model, tensor: Tensor) -> (float, float):\n",
    "        model_xy = model(tensor).detach().float().cpu().numpy().flatten()\n",
    "        model_x = model_xy[0]\n",
    "        model_y = (0.5 - model_xy[1]) / 2.0\n",
    "        return model_x, model_y\n",
    "\n",
    "    def execute(self, models: {}, image: any, tensor: Tensor, previous_values: list[ReturnData]) -> ReturnData:\n",
    "        x, y = self.get_road_direction(models[\"road\"], tensor)\n",
    "        return ReturnData(command=ReturnCommand.CONTINUE, poi=(x, y))"
   ],
   "metadata": {
    "collapsed": false
   }
  },
  {
   "cell_type": "code",
   "execution_count": null,
   "outputs": [],
   "source": [
    "\n",
    "def start_stop_toggle(obj):\n",
    "    if obj[\"new\"]:\n",
    "        toggle_exec_btn.button_style = 'warning'\n",
    "        toggle_exec_btn.icon = 'warning'\n",
    "        toggle_exec_btn.description = \"Stop\"\n",
    "    else:\n",
    "        toggle_exec_btn.button_style = 'success'\n",
    "        toggle_exec_btn.icon = 'check'\n",
    "        toggle_exec_btn.description = 'Start'\n",
    "        time.sleep(0.1)\n",
    "        robot.stop()\n",
    "\n",
    "\n",
    "toggle_exec_btn.observe(start_stop_toggle, 'value')"
   ],
   "metadata": {
    "collapsed": false
   }
  }
 ],
 "metadata": {
  "kernelspec": {
   "display_name": "Python 3",
   "language": "python",
   "name": "python3"
  },
  "language_info": {
   "codemirror_mode": {
    "name": "ipython",
    "version": 3
   },
   "file_extension": ".py",
   "mimetype": "text/x-python",
   "name": "python",
   "nbconvert_exporter": "python",
   "pygments_lexer": "ipython3",
   "version": "3.6.9"
  }
 },
 "nbformat": 4,
 "nbformat_minor": 5
}
