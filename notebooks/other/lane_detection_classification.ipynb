{
 "cells": [
  {
   "cell_type": "code",
   "execution_count": null,
   "outputs": [],
   "source": [
    "import os\n",
    "\n",
    "import ipywidgets as widgets\n",
    "from IPython.display import display"
   ],
   "metadata": {
    "collapsed": false,
    "ExecuteTime": {
     "start_time": "2023-04-10T13:30:42.074208Z",
     "end_time": "2023-04-10T13:30:42.157332Z"
    }
   }
  },
  {
   "cell_type": "code",
   "execution_count": null,
   "metadata": {
    "collapsed": true,
    "ExecuteTime": {
     "start_time": "2023-04-10T13:30:42.118536Z",
     "end_time": "2023-04-10T13:30:42.157582Z"
    }
   },
   "outputs": [],
   "source": [
    "img_list = []\n",
    "for root, dirs, files in os.walk(\"dataset_xy\", topdown=False):\n",
    "    for name in files:\n",
    "        if name.endswith(\"_unknown.jpg\"):\n",
    "            img_list.append(root + \"/\" + name)"
   ]
  },
  {
   "cell_type": "code",
   "execution_count": null,
   "outputs": [],
   "source": [
    "counter = 0\n",
    "limit = len(img_list)\n",
    "current_image = None"
   ],
   "metadata": {
    "collapsed": false,
    "ExecuteTime": {
     "start_time": "2023-04-10T13:30:42.118747Z",
     "end_time": "2023-04-10T13:30:42.157698Z"
    }
   }
  },
  {
   "cell_type": "code",
   "execution_count": null,
   "outputs": [],
   "source": [
    "out = widgets.Output()\n",
    "img = widgets.Image()\n",
    "label = widgets.Label()"
   ],
   "metadata": {
    "collapsed": false,
    "ExecuteTime": {
     "start_time": "2023-04-10T13:30:42.118997Z",
     "end_time": "2023-04-10T13:30:42.157798Z"
    }
   }
  },
  {
   "cell_type": "code",
   "execution_count": null,
   "outputs": [],
   "source": [
    "def set_next_image():\n",
    "    global current_image\n",
    "    if counter < limit:\n",
    "        current_image = img_list[counter]\n",
    "        with open(current_image, 'rb') as image:\n",
    "            img.value = image.read()\n",
    "    else:\n",
    "        current_image = None\n",
    "        img.value = None\n",
    "\n",
    "    if counter % 10 == 0:\n",
    "        out.clear_output()\n",
    "\n",
    "    label.value = f\"{counter + 1}/{limit}\"\n",
    "\n",
    "\n",
    "set_next_image()"
   ],
   "metadata": {
    "collapsed": false,
    "ExecuteTime": {
     "start_time": "2023-04-10T13:30:42.134810Z",
     "end_time": "2023-04-10T13:30:42.175986Z"
    }
   }
  },
  {
   "cell_type": "code",
   "execution_count": null,
   "outputs": [],
   "source": [
    "@out.capture()\n",
    "def btn_click(b):\n",
    "    global counter\n",
    "    if current_image is not None:\n",
    "        description = b.description\n",
    "        print(current_image.removesuffix(\"_unknown.jpg\") + f\"_{description}.jpg\")\n",
    "        os.rename(current_image, current_image.removesuffix(\"_unknown.jpg\") + f\"_{description}.jpg\")\n",
    "\n",
    "        counter += 1\n",
    "        set_next_image()"
   ],
   "metadata": {
    "collapsed": false,
    "ExecuteTime": {
     "start_time": "2023-04-10T13:30:42.147549Z",
     "end_time": "2023-04-10T13:30:42.211795Z"
    }
   }
  },
  {
   "cell_type": "code",
   "execution_count": null,
   "outputs": [],
   "source": [
    "options = ['3_way', '4_way', 'curve_left', 'curve_right', 'straight', 'unknown']\n",
    "buttons = []\n",
    "\n",
    "for o in options:\n",
    "    btn = widgets.Button(\n",
    "        description=o,\n",
    "    )\n",
    "    btn.on_click(btn_click)\n",
    "    buttons.append(btn)\n"
   ],
   "metadata": {
    "collapsed": false,
    "ExecuteTime": {
     "start_time": "2023-04-10T13:30:42.190095Z",
     "end_time": "2023-04-10T13:30:42.243881Z"
    }
   }
  },
  {
   "cell_type": "code",
   "execution_count": null,
   "outputs": [],
   "source": [
    "display(\n",
    "    label,\n",
    "    widgets.HBox([img, widgets.VBox(buttons)]),\n",
    "    out\n",
    ")\n"
   ],
   "metadata": {
    "collapsed": false,
    "ExecuteTime": {
     "start_time": "2023-04-10T13:30:42.232652Z",
     "end_time": "2023-04-10T13:30:42.257338Z"
    }
   }
  }
 ],
 "metadata": {
  "kernelspec": {
   "display_name": "Python 3",
   "language": "python",
   "name": "python3"
  },
  "language_info": {
   "codemirror_mode": {
    "name": "ipython",
    "version": 2
   },
   "file_extension": ".py",
   "mimetype": "text/x-python",
   "name": "python",
   "nbconvert_exporter": "python",
   "pygments_lexer": "ipython2",
   "version": "2.7.6"
  }
 },
 "nbformat": 4,
 "nbformat_minor": 0
}
