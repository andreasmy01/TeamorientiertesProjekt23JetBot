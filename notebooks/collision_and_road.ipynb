{
 "cells": [
  {
   "cell_type": "markdown",
   "id": "emerging-emission",
   "metadata": {},
   "source": [
    "# Skript für den Jetbot der Roadfollowing und Collision Avoidance kombiniert"
   ]
  },
  {
   "cell_type": "code",
   "execution_count": null,
   "id": "italic-wrong",
   "metadata": {},
   "outputs": [],
   "source": [
    "import math\n",
    "import os\n",
    "import time\n",
    "from uuid import uuid1\n",
    "\n",
    "import PIL.Image\n",
    "import ipywidgets as widgets\n",
    "import torch\n",
    "import torch.nn.functional as functional\n",
    "import torchvision\n",
    "import torchvision.transforms as transforms\n",
    "import traitlets\n",
    "from IPython.display import display\n",
    "\n",
    "from jetbot import Camera, bgr8_to_jpeg\n",
    "from jetbot import Robot\n",
    "from lib.AutomaticDataCollector import AutomaticDataCollector"
   ]
  },
  {
   "cell_type": "markdown",
   "id": "assumed-cream",
   "metadata": {},
   "source": [
    "Load models"
   ]
  },
  {
   "cell_type": "code",
   "execution_count": null,
   "id": "incredible-allocation",
   "metadata": {},
   "outputs": [],
   "source": [
    "model_road = torchvision.models.resnet18(pretrained=False)\n",
    "model_road.fc = torch.nn.Linear(512, 2)\n",
    "model_road.load_state_dict(torch.load('models/road_following/best_steering_model_xy_12_04_a.pth'))\n",
    "\n",
    "model_collision = torchvision.models.alexnet(pretrained=False)\n",
    "model_collision.classifier[6] = torch.nn.Linear(model_collision.classifier[6].in_features, 2)\n",
    "model_collision.load_state_dict(torch.load('models/collision/collision_model_13_04_a.pth'))\n"
   ]
  },
  {
   "cell_type": "markdown",
   "id": "certain-publication",
   "metadata": {},
   "source": [
    "Add cuda device to models"
   ]
  },
  {
   "cell_type": "code",
   "execution_count": null,
   "id": "metric-database",
   "metadata": {},
   "outputs": [],
   "source": [
    "device = torch.device('cuda')\n",
    "model_road = model_road.to(device)\n",
    "model_collision = model_collision.to(device)"
   ]
  },
  {
   "cell_type": "markdown",
   "id": "lesbian-relative",
   "metadata": {},
   "source": [
    "Preprocess Image"
   ]
  },
  {
   "cell_type": "code",
   "execution_count": null,
   "id": "black-rebate",
   "metadata": {},
   "outputs": [],
   "source": [
    "mean = torch.Tensor([0.485, 0.456, 0.406]).half().float().to(device)\n",
    "std = torch.Tensor([0.229, 0.224, 0.225]).half().float().to(device)\n",
    "\n",
    "\n",
    "def preprocess(image):\n",
    "    image = PIL.Image.fromarray(image)\n",
    "    image = transforms.functional.to_tensor(image).to(device)\n",
    "    image.sub_(mean[:, None, None]).div_(std[:, None, None])\n",
    "    return image[None, ...]"
   ]
  },
  {
   "cell_type": "markdown",
   "id": "external-thousand",
   "metadata": {},
   "source": [
    "Create Camera instance"
   ]
  },
  {
   "cell_type": "code",
   "execution_count": null,
   "id": "catholic-punch",
   "metadata": {},
   "outputs": [],
   "source": [
    "camera = Camera.instance(width=224, height=224, fps=10)"
   ]
  },
  {
   "cell_type": "markdown",
   "id": "beautiful-castle",
   "metadata": {},
   "source": [
    "Widget for information and camera feed display"
   ]
  },
  {
   "cell_type": "code",
   "execution_count": null,
   "id": "alien-conducting",
   "metadata": {},
   "outputs": [],
   "source": [
    "image_widget = widgets.Image()\n",
    "\n",
    "speed_output = widgets.Text(\n",
    "    value='',\n",
    "    placeholder='',\n",
    "    description='(l,r):',\n",
    "    disabled=True\n",
    ")\n",
    "\n",
    "model_output = widgets.Textarea(\n",
    "    value='',\n",
    "    placeholder='Type something',\n",
    "    description='Model:',\n",
    "    disabled=False\n",
    ")\n",
    "\n",
    "traitlets.dlink((camera, 'value'), (image_widget, 'value'), transform=bgr8_to_jpeg)"
   ]
  },
  {
   "cell_type": "markdown",
   "id": "sophisticated-target",
   "metadata": {},
   "source": [
    "Sliders and information widgets"
   ]
  },
  {
   "cell_type": "code",
   "execution_count": null,
   "id": "devoted-spelling",
   "metadata": {
    "collapsed": false,
    "jupyter": {
     "outputs_hidden": false
    }
   },
   "outputs": [],
   "source": [
    "# Road Following sliders\n",
    "speed_control_slider = widgets.FloatSlider(value=0.0, min=0.0, max=1.0, step=0.01, description='speed control')\n",
    "steering_gain_slider = widgets.FloatSlider(min=0.0, max=1.0, step=0.01, value=0.04, description='steering gain')\n",
    "steering_kd_gain_slider = widgets.FloatSlider(min=0.0, max=0.5, step=0.001, value=0.0, description='steering kd')\n",
    "steering_bias_slider = widgets.FloatSlider(min=-0.3, max=0.3, step=0.01, value=0.0, description='steering bias')\n",
    "\n",
    "#Collision Avoidance sliders\n",
    "blocked_slider = widgets.FloatSlider(min=0.0, max=1.0, orientation='horizontal', description='blocked')\n",
    "stop_duration_slider = widgets.IntSlider(min=1, max=1000, step=1, value=10, description='time for stop')\n",
    "blocked_threshold = widgets.FloatSlider(min=0, max=1.0, step=0.01, value=0.8, description='blocked threshold')\n",
    "\n",
    "# Steering sliders\n",
    "diff_gain_limit_slider = widgets.FloatSlider(min=0.0, max=1.8, step=0.01, value=1.5, description='diff_gain_limit')\n",
    "curve_min_val_slider = widgets.FloatSlider(min=0.0, max=0.25, step=0.01, value=0.08, description='curve_min_val')\n",
    "alpha_factor_slider = widgets.FloatSlider(min=-1.0, max=1.0, step=0.01, value=0.00, description='alpha_factor')\n",
    "steering_correction_activation = widgets.FloatSlider(min=0.0, max=math.pi, step=0.05, value=0.25, description='steering_correction_activation')\n",
    "\n",
    "toggle_exec_btn = widgets.ToggleButton(\n",
    "    value=False,\n",
    "    description='Start',\n",
    "    disabled=False,\n",
    "    button_style='success',\n",
    "    tooltip='Description',\n",
    "    icon='check'\n",
    ")\n",
    "\n",
    "snapshot_btn = widgets.Button(\n",
    "    description='snapshot'\n",
    ")\n"
   ]
  },
  {
   "cell_type": "markdown",
   "id": "technical-theory",
   "metadata": {},
   "source": [
    "make snapshot"
   ]
  },
  {
   "cell_type": "code",
   "execution_count": null,
   "id": "treated-firmware",
   "metadata": {
    "collapsed": false,
    "jupyter": {
     "outputs_hidden": false
    }
   },
   "outputs": [],
   "source": [
    "def take_snapshot(b=None):\n",
    "    try:\n",
    "        os.makedirs(\"snapshot\")\n",
    "    except FileExistsError:\n",
    "        pass\n",
    "    with open(os.path.join('snapshot', str(uuid1()) + '.jpg'), 'wb') as f:\n",
    "        f.write(image_widget.value)\n",
    "\n",
    "\n",
    "snapshot_btn.on_click(take_snapshot)"
   ]
  },
  {
   "cell_type": "markdown",
   "id": "informational-september",
   "metadata": {},
   "source": [
    "debug slider for speed"
   ]
  },
  {
   "cell_type": "code",
   "execution_count": null,
   "id": "activated-three",
   "metadata": {
    "collapsed": false,
    "jupyter": {
     "outputs_hidden": false
    }
   },
   "outputs": [],
   "source": [
    "a_slider = widgets.FloatSlider(min=-math.pi, max=math.pi, step=0.01, description='a')\n",
    "xy_out = widgets.Text()"
   ]
  },
  {
   "cell_type": "markdown",
   "id": "ready-police",
   "metadata": {},
   "source": [
    "Display the controlling widgets"
   ]
  },
  {
   "cell_type": "markdown",
   "id": "loved-david",
   "metadata": {},
   "source": [
    "Variables for slider controls"
   ]
  },
  {
   "cell_type": "code",
   "execution_count": null,
   "id": "cosmetic-jimmy",
   "metadata": {
    "collapsed": false,
    "jupyter": {
     "outputs_hidden": false
    }
   },
   "outputs": [],
   "source": [
    "speed_control, steer_gain, steer_kd_gain, steer_bias = speed_control_slider.value, 0.0, 0.0, 0.0"
   ]
  },
  {
   "cell_type": "markdown",
   "id": "quick-provision",
   "metadata": {},
   "source": [
    "Init Roboter Object"
   ]
  },
  {
   "cell_type": "code",
   "execution_count": null,
   "id": "straight-dominant",
   "metadata": {
    "collapsed": false,
    "jupyter": {
     "outputs_hidden": false
    }
   },
   "outputs": [],
   "source": [
    "robot = Robot()"
   ]
  },
  {
   "cell_type": "markdown",
   "id": "quality-filename",
   "metadata": {},
   "source": [
    "Global Vars"
   ]
  },
  {
   "cell_type": "code",
   "execution_count": null,
   "id": "spanish-victim",
   "metadata": {
    "collapsed": false,
    "jupyter": {
     "outputs_hidden": false
    }
   },
   "outputs": [],
   "source": [
    "angle_last, stop_counter = 0.0, 0\n",
    "can_drive = True\n",
    "stop_counter_limit = 10\n",
    "x, y = 0.0, 0.0\n",
    "robot_is_stopped = True"
   ]
  },
  {
   "cell_type": "markdown",
   "id": "ruled-yeast",
   "metadata": {},
   "source": [
    "calculate speed values"
   ]
  },
  {
   "cell_type": "code",
   "execution_count": null,
   "id": "handed-payment",
   "metadata": {
    "collapsed": false,
    "jupyter": {
     "outputs_hidden": false
    }
   },
   "outputs": [],
   "source": [
    "def calculate_speed(last_a: float, x_in: float, y_in: float) -> (float, float, float):\n",
    "    global a_slider\n",
    "    if robot_is_stopped:\n",
    "        return 0.0, 0.0, 0.0\n",
    "    a = math.atan2(x_in, y_in)\n",
    "    a_slider.value = a\n",
    "    xy_out.value = f\"({x:.02f} {y:.02f})\"\n",
    "    pid = a * steer_gain + (a - last_a) * steer_kd_gain\n",
    "    steer_val = pid + steer_bias\n",
    "    left = max(min(speed_control + steer_val, 1.0), 0.0)\n",
    "    right = max(min(speed_control - steer_val, 1.0), 0.0)\n",
    "    return a, left, right"
   ]
  },
  {
   "cell_type": "code",
   "execution_count": null,
   "id": "faced-neutral",
   "metadata": {
    "collapsed": false,
    "jupyter": {
     "outputs_hidden": false
    }
   },
   "outputs": [],
   "source": [
    "def get_collision_chance(image) -> float:\n",
    "    collision = model_collision(image)\n",
    "    collision_softmax = functional.softmax(collision, dim=1).flatten()\n",
    "    return float(collision_softmax[0])"
   ]
  },
  {
   "cell_type": "code",
   "execution_count": null,
   "id": "greatest-affiliation",
   "metadata": {
    "collapsed": false,
    "jupyter": {
     "outputs_hidden": false
    }
   },
   "outputs": [],
   "source": [
    "def get_road_direction(image) -> (float, float):\n",
    "    model_xy = model_road(image).detach().float().cpu().numpy().flatten()\n",
    "    model_x = model_xy[0]\n",
    "    model_y = (0.5 - model_xy[1]) / 2.0\n",
    "    return model_x, model_y"
   ]
  },
  {
   "cell_type": "code",
   "execution_count": null,
   "id": "balanced-license",
   "metadata": {
    "collapsed": false,
    "jupyter": {
     "outputs_hidden": false
    }
   },
   "outputs": [],
   "source": [
    "def correct_steering(left: float, right: float, angle: float) -> (float, float):\n",
    "    abs_angle = math.fabs(angle)\n",
    "    if abs_angle < steering_correction_activation.value:\n",
    "        return left, right\n",
    "    \n",
    "    angle_f = abs_angle / math.pi + alpha_factor_slider.value\n",
    "    diff_gain_limit = diff_gain_limit_slider.value\n",
    "    curve_min_val = curve_min_val_slider.value\n",
    "\n",
    "    if left * diff_gain_limit < right:\n",
    "        l = (left * diff_gain_limit)\n",
    "        right = min(l if l > 0 else curve_min_val, right)\n",
    "        left = left - (angle_f * left)\n",
    "\n",
    "    elif left > right * diff_gain_limit:\n",
    "        r = (right * diff_gain_limit)\n",
    "        left = min(r if r > 0 else curve_min_val, left)\n",
    "        right = right - (angle_f * right)\n",
    "\n",
    "    return left, right"
   ]
  },
  {
   "cell_type": "markdown",
   "id": "specified-fifty",
   "metadata": {},
   "source": [
    "drive execute logic"
   ]
  },
  {
   "cell_type": "code",
   "execution_count": null,
   "id": "black-south",
   "metadata": {},
   "outputs": [],
   "source": [
    "def execute(change):\n",
    "    global angle_last, blocked_slider, robot, stop_counter, stop_counter_limit, can_drive, x, y, blocked_threshold\n",
    "    global speed_control, steer_gain, steer_kd_gain, steer_bias\n",
    "\n",
    "    image = change['new']\n",
    "    image_preproc = preprocess(image).to(device)\n",
    "\n",
    "    # get slider values\n",
    "    steer_gain = steering_gain_slider.value\n",
    "    steer_kd_gain = steering_kd_gain_slider.value\n",
    "    steer_bias = steering_bias_slider.value\n",
    "    stop_counter_limit = stop_duration_slider.value\n",
    "    max_speed = speed_control_slider.value\n",
    "\n",
    "    prob_blocked = get_collision_chance(image_preproc)\n",
    "    blocked_slider.value = prob_blocked\n",
    "\n",
    "    if can_drive:\n",
    "        can_drive = prob_blocked <= blocked_threshold.value\n",
    "        if can_drive:\n",
    "            stop_counter = 0\n",
    "            x, y = get_road_direction(image_preproc)\n",
    "            speed_control = max_speed\n",
    "        else:\n",
    "            stop_counter += 1\n",
    "    else:\n",
    "        stop_counter += 1\n",
    "        if stop_counter < stop_counter_limit:\n",
    "            x, y, speed_control = 0.0, 0.0, 0\n",
    "        else:\n",
    "            can_drive = True\n",
    "            stop_counter = 0\n",
    "\n",
    "    angle, left, right = calculate_speed(angle_last, x, y)\n",
    "    angle_last = angle\n",
    "\n",
    "    left, right = correct_steering(left, right, angle)\n",
    "\n",
    "    robot.left_motor.value = left\n",
    "    robot.right_motor.value = right\n",
    "\n",
    "    speed_output.value = f'{left:.02f}/{right:.02f}'\n",
    "execute({'new': camera.value})"
   ]
  },
  {
   "cell_type": "code",
   "execution_count": null,
   "id": "white-theta",
   "metadata": {
    "collapsed": false,
    "jupyter": {
     "outputs_hidden": false
    }
   },
   "outputs": [],
   "source": [
    "collector = AutomaticDataCollector(camera, wait_time=2)\n",
    "\n",
    "def start_stop_toggle(obj):\n",
    "    global robot_is_stopped\n",
    "    if obj[\"new\"]:\n",
    "        toggle_exec_btn.button_style = 'warning'\n",
    "        toggle_exec_btn.icon = 'warning'\n",
    "        toggle_exec_btn.description = \"Stop\"\n",
    "        camera.observe(execute, names='value')\n",
    "        robot_is_stopped = False\n",
    "        collector.start()\n",
    "    else:\n",
    "        toggle_exec_btn.button_style = 'success'\n",
    "        toggle_exec_btn.icon = 'check'\n",
    "        toggle_exec_btn.description = 'Start'\n",
    "        camera.unobserve(execute, names='value')\n",
    "        robot_is_stopped = True\n",
    "        time.sleep(0.1)\n",
    "        robot.stop()\n",
    "        collector.stop()\n",
    "\n",
    "\n",
    "toggle_exec_btn.observe(start_stop_toggle, 'value')\n"
   ]
  },
  {
   "cell_type": "code",
   "execution_count": null,
   "id": "infectious-receipt",
   "metadata": {},
   "outputs": [],
   "source": [
    "display(speed_control_slider, steering_gain_slider, steering_kd_gain_slider, steering_bias_slider)\n",
    "\n",
    "display(diff_gain_limit_slider, curve_min_val_slider, alpha_factor_slider, steering_correction_activation)\n",
    "\n",
    "display(widgets.HBox([toggle_exec_btn, snapshot_btn]))\n",
    "\n",
    "display(widgets.HBox([image_widget]))\n",
    "display(speed_output)\n",
    "\n",
    "display(widgets.HBox([blocked_slider, blocked_threshold, stop_duration_slider]))\n",
    "display(a_slider, xy_out)"
   ]
  }
 ],
 "metadata": {
  "kernelspec": {
   "display_name": "Python 3",
   "language": "python",
   "name": "python3"
  },
  "language_info": {
   "codemirror_mode": {
    "name": "ipython",
    "version": 3
   },
   "file_extension": ".py",
   "mimetype": "text/x-python",
   "name": "python",
   "nbconvert_exporter": "python",
   "pygments_lexer": "ipython3",
   "version": "3.6.9"
  }
 },
 "nbformat": 4,
 "nbformat_minor": 5
}
