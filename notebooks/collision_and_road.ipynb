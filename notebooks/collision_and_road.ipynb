{
 "cells": [
  {
   "cell_type": "markdown",
   "id": "studied-cabin",
   "metadata": {
    "collapsed": false
   },
   "source": [
    "# Skript für den Jetbot der Roadfollowing und Collision Avoidance kombiniert"
   ]
  },
  {
   "cell_type": "code",
   "execution_count": 10,
   "id": "finite-holiday",
   "metadata": {
    "trusted": false
   },
   "outputs": [
    {
     "ename": "ModuleNotFoundError",
     "evalue": "No module named 'cv2'",
     "output_type": "error",
     "traceback": [
      "\u001B[0;31m---------------------------------------------------------------------------\u001B[0m",
      "\u001B[0;31mModuleNotFoundError\u001B[0m                       Traceback (most recent call last)",
      "Input \u001B[0;32mIn [10]\u001B[0m, in \u001B[0;36m<cell line: 13>\u001B[0;34m()\u001B[0m\n\u001B[1;32m     10\u001B[0m \u001B[38;5;28;01mimport\u001B[39;00m \u001B[38;5;21;01mtraitlets\u001B[39;00m\n\u001B[1;32m     11\u001B[0m \u001B[38;5;28;01mfrom\u001B[39;00m \u001B[38;5;21;01mIPython\u001B[39;00m\u001B[38;5;21;01m.\u001B[39;00m\u001B[38;5;21;01mdisplay\u001B[39;00m \u001B[38;5;28;01mimport\u001B[39;00m display\n\u001B[0;32m---> 13\u001B[0m \u001B[38;5;28;01mfrom\u001B[39;00m \u001B[38;5;21;01mjetbot\u001B[39;00m \u001B[38;5;28;01mimport\u001B[39;00m Camera, bgr8_to_jpeg\n\u001B[1;32m     14\u001B[0m \u001B[38;5;28;01mfrom\u001B[39;00m \u001B[38;5;21;01mjetbot\u001B[39;00m \u001B[38;5;28;01mimport\u001B[39;00m Robot\n",
      "File \u001B[0;32m~/_project/jetbot/jetbot/__init__.py:1\u001B[0m, in \u001B[0;36m<module>\u001B[0;34m\u001B[0m\n\u001B[0;32m----> 1\u001B[0m \u001B[38;5;28;01mfrom\u001B[39;00m \u001B[38;5;21;01m.\u001B[39;00m\u001B[38;5;21;01mcamera\u001B[39;00m \u001B[38;5;28;01mimport\u001B[39;00m Camera\n\u001B[1;32m      2\u001B[0m \u001B[38;5;28;01mfrom\u001B[39;00m \u001B[38;5;21;01m.\u001B[39;00m\u001B[38;5;21;01mheartbeat\u001B[39;00m \u001B[38;5;28;01mimport\u001B[39;00m Heartbeat\n\u001B[1;32m      3\u001B[0m \u001B[38;5;28;01mfrom\u001B[39;00m \u001B[38;5;21;01m.\u001B[39;00m\u001B[38;5;21;01mmotor\u001B[39;00m \u001B[38;5;28;01mimport\u001B[39;00m Motor\n",
      "File \u001B[0;32m~/_project/jetbot/jetbot/camera/__init__.py:9\u001B[0m, in \u001B[0;36m<module>\u001B[0;34m\u001B[0m\n\u001B[1;32m      7\u001B[0m     Camera \u001B[38;5;241m=\u001B[39m ZmqCamera\n\u001B[1;32m      8\u001B[0m \u001B[38;5;28;01melse\u001B[39;00m:\n\u001B[0;32m----> 9\u001B[0m     \u001B[38;5;28;01mfrom\u001B[39;00m \u001B[38;5;21;01m.\u001B[39;00m\u001B[38;5;21;01mopencv_gst_camera\u001B[39;00m \u001B[38;5;28;01mimport\u001B[39;00m OpenCvGstCamera\n\u001B[1;32m     10\u001B[0m     Camera \u001B[38;5;241m=\u001B[39m OpenCvGstCamera\n",
      "File \u001B[0;32m~/_project/jetbot/jetbot/camera/opencv_gst_camera.py:3\u001B[0m, in \u001B[0;36m<module>\u001B[0;34m\u001B[0m\n\u001B[1;32m      1\u001B[0m \u001B[38;5;28;01mimport\u001B[39;00m \u001B[38;5;21;01mtraitlets\u001B[39;00m\n\u001B[1;32m      2\u001B[0m \u001B[38;5;28;01mimport\u001B[39;00m \u001B[38;5;21;01matexit\u001B[39;00m\n\u001B[0;32m----> 3\u001B[0m \u001B[38;5;28;01mimport\u001B[39;00m \u001B[38;5;21;01mcv2\u001B[39;00m\n\u001B[1;32m      4\u001B[0m \u001B[38;5;28;01mimport\u001B[39;00m \u001B[38;5;21;01mthreading\u001B[39;00m\n\u001B[1;32m      5\u001B[0m \u001B[38;5;28;01mimport\u001B[39;00m \u001B[38;5;21;01mnumpy\u001B[39;00m \u001B[38;5;28;01mas\u001B[39;00m \u001B[38;5;21;01mnp\u001B[39;00m\n",
      "\u001B[0;31mModuleNotFoundError\u001B[0m: No module named 'cv2'"
     ]
    }
   ],
   "source": [
    "import math\n",
    "import time\n",
    "\n",
    "import PIL.Image\n",
    "import ipywidgets as widgets\n",
    "import torch\n",
    "import torch.nn.functional as functional\n",
    "import torchvision\n",
    "import torchvision.transforms as transforms\n",
    "import traitlets\n",
    "from IPython.display import display\n",
    "\n",
    "from jetbot import Camera, bgr8_to_jpeg\n",
    "from jetbot import Robot\n"
   ]
  },
  {
   "cell_type": "markdown",
   "id": "chief-salmon",
   "metadata": {
    "collapsed": false
   },
   "source": [
    "Load models"
   ]
  },
  {
   "cell_type": "code",
   "execution_count": null,
   "id": "difficult-dinner",
   "metadata": {
    "trusted": false
   },
   "outputs": [],
   "source": [
    "model_road = torchvision.models.resnet18(pretrained=False)\n",
    "model_road.fc = torch.nn.Linear(512, 2)\n",
    "model_road.load_state_dict(torch.load('best_steering_model_xy.pth'))\n",
    "\n",
    "model_collision = torchvision.models.alexnet(pretrained=False)\n",
    "model_collision.classifier[6] = torch.nn.Linear(model_collision.classifier[6].in_features, 2)\n",
    "model_collision.load_state_dict(torch.load('best_model.pth'))\n"
   ]
  },
  {
   "cell_type": "markdown",
   "id": "ancient-wonder",
   "metadata": {
    "collapsed": false
   },
   "source": [
    "Add cuda device to models"
   ]
  },
  {
   "cell_type": "code",
   "execution_count": null,
   "id": "destroyed-turtle",
   "metadata": {
    "trusted": false
   },
   "outputs": [],
   "source": [
    "device = torch.device('cuda')\n",
    "model_road = model_road.to(device)\n",
    "model_collision = model_collision.to(device)"
   ]
  },
  {
   "cell_type": "markdown",
   "id": "diverse-question",
   "metadata": {
    "collapsed": false
   },
   "source": [
    "Preprocess Image"
   ]
  },
  {
   "cell_type": "code",
   "execution_count": null,
   "id": "immediate-stress",
   "metadata": {
    "trusted": false
   },
   "outputs": [],
   "source": [
    "mean = torch.Tensor([0.485, 0.456, 0.406]).half().float().to(device)\n",
    "std = torch.Tensor([0.229, 0.224, 0.225]).half().float().to(device)\n",
    "\n",
    "\n",
    "def preprocess(image):\n",
    "    image = PIL.Image.fromarray(image)\n",
    "    image = transforms.functional.to_tensor(image).to(device)\n",
    "    image.sub_(mean[:, None, None]).div_(std[:, None, None])\n",
    "    return image[None, ...]"
   ]
  },
  {
   "cell_type": "markdown",
   "id": "compressed-champagne",
   "metadata": {
    "collapsed": false
   },
   "source": [
    "Create Camera instance"
   ]
  },
  {
   "cell_type": "code",
   "execution_count": null,
   "id": "democratic-inventory",
   "metadata": {
    "trusted": false
   },
   "outputs": [],
   "source": [
    "camera = Camera.instance(width=224, height=224, fps=10)"
   ]
  },
  {
   "cell_type": "markdown",
   "source": [
    "Widget for information and camera feed display"
   ],
   "metadata": {
    "collapsed": false
   }
  },
  {
   "cell_type": "code",
   "execution_count": null,
   "id": "uniform-marking",
   "metadata": {
    "trusted": false
   },
   "outputs": [],
   "source": [
    "image_widget = widgets.Image()\n",
    "\n",
    "speed_output = widgets.Text(\n",
    "    value='',\n",
    "    placeholder='',\n",
    "    description='(l,r):',\n",
    "    disabled=True\n",
    ")\n",
    "\n",
    "model_output = widgets.Textarea(\n",
    "    value='',\n",
    "    placeholder='Type something',\n",
    "    description='Model:',\n",
    "    disabled=False\n",
    ")\n",
    "\n",
    "traitlets.dlink((camera, 'value'), (image_widget, 'value'), transform=bgr8_to_jpeg)"
   ]
  },
  {
   "cell_type": "markdown",
   "source": [
    "Sliders and information display"
   ],
   "metadata": {
    "collapsed": false
   }
  },
  {
   "cell_type": "code",
   "execution_count": null,
   "id": "recognized-expert",
   "metadata": {
    "collapsed": false,
    "trusted": false
   },
   "outputs": [],
   "source": [
    "# Road Following sliders\n",
    "speed_control_slider = widgets.FloatSlider(value=0.1, min=0.0, max=1.0, step=0.01, description='speed control')\n",
    "steering_gain_slider = widgets.FloatSlider(min=0.0, max=1.0, step=0.01, value=0.04, description='steering gain')\n",
    "steering_kd_gain_slider = widgets.FloatSlider(min=0.0, max=0.5, step=0.001, value=0.0, description='steering kd')\n",
    "steering_bias_slider = widgets.FloatSlider(min=-0.3, max=0.3, step=0.01, value=0.0, description='steering bias')\n",
    "\n",
    "display(speed_control_slider, steering_gain_slider, steering_kd_gain_slider, steering_bias_slider)\n",
    "\n",
    "#Collision Avoidance sliders\n",
    "blocked_slider = widgets.FloatSlider(min=0.0, max=1.0, orientation='horizontal', description='blocked')\n",
    "stopduration_slider = widgets.IntSlider(min=1, max=1000, step=1, value=10, description='time for stop')\n",
    "blocked_threshold = widgets.FloatSlider(min=0, max=1.0, step=0.01, value=0.8, description='blocked threshold')\n",
    "\n",
    "\n",
    "toggle_exec_btn = widgets.ToggleButton(\n",
    "    value=False,\n",
    "    description='Start',\n",
    "    disabled=False,\n",
    "    button_style='success',\n",
    "    tooltip='Description',\n",
    "    icon='check'\n",
    ")\n",
    "display(toggle_exec_btn)\n",
    "\n",
    "\n",
    "display(image_widget)\n",
    "display(speed_output)\n",
    "\n",
    "display(widgets.HBox([blocked_slider, blocked_threshold, stopduration_slider]))"
   ]
  },
  {
   "cell_type": "markdown",
   "source": [
    "Variables for slider controls"
   ],
   "metadata": {
    "collapsed": false
   }
  },
  {
   "cell_type": "code",
   "execution_count": null,
   "id": "unlimited-photographer",
   "metadata": {
    "collapsed": false,
    "trusted": false
   },
   "outputs": [],
   "source": [
    "speed_control, steer_gain, steer_kd_gain, steer_bias = speed_control_slider.value, 0.0, 0.0, 0.0"
   ]
  },
  {
   "cell_type": "markdown",
   "source": [
    "Init Roboter Object"
   ],
   "metadata": {
    "collapsed": false
   }
  },
  {
   "cell_type": "code",
   "execution_count": null,
   "outputs": [],
   "source": [
    "robot = Robot()"
   ],
   "metadata": {
    "collapsed": false
   }
  },
  {
   "cell_type": "markdown",
   "source": [
    "debug slider for speed"
   ],
   "metadata": {
    "collapsed": false
   }
  },
  {
   "cell_type": "code",
   "execution_count": null,
   "outputs": [],
   "source": [
    "a_slider = widgets.FloatSlider(min=-math.pi, max=math.pi, step=0.01, description='a')\n",
    "xy_text_output = widgets.Text(\n",
    "    value='',\n",
    "    placeholder='',\n",
    "    description='(x,y):',\n",
    "    disabled=True\n",
    ")\n",
    "display(a_slider, xy_text_output)"
   ],
   "metadata": {
    "collapsed": false
   }
  },
  {
   "cell_type": "code",
   "execution_count": null,
   "id": "amino-integrity",
   "metadata": {
    "collapsed": false,
    "trusted": false
   },
   "outputs": [],
   "source": [
    "def calculate_speed(last_a: float, x_in: float, y_in: float) -> (float, float, float):\n",
    "    global a_slider, xy_text_output\n",
    "    a = math.atan2(x_in, y_in)\n",
    "    a_slider.value = a\n",
    "    xy_text_output.value = f\"({x:.02f} {y:.02f})\"\n",
    "    pid = a * steer_gain + (a - last_a) * steer_kd_gain\n",
    "    steer_val = pid + steer_bias\n",
    "    left = max(min(speed_control + steer_val, 1.0), 0.0)\n",
    "    right = max(min(speed_control - steer_val, 1.0), 0.0)\n",
    "    return a, left, right"
   ]
  },
  {
   "cell_type": "code",
   "execution_count": null,
   "outputs": [],
   "source": [
    "def get_collision_chance(image) -> float:\n",
    "    collision = model_collision(image)\n",
    "    collision_softmax = functional.softmax(collision, dim=1).flatten()\n",
    "    return float(collision_softmax[0])"
   ],
   "metadata": {
    "collapsed": false
   }
  },
  {
   "cell_type": "code",
   "execution_count": null,
   "outputs": [],
   "source": [
    "def get_road_direction(image) -> (float, float):\n",
    "    model_xy = model_road(image).detach().float().cpu().numpy().flatten()\n",
    "    model_x = model_xy[0]\n",
    "    model_y = (0.5 - model_xy[1]) / 2.0\n",
    "    return model_x, model_y"
   ],
   "metadata": {
    "collapsed": false
   }
  },
  {
   "cell_type": "markdown",
   "source": [
    "drive execute logic"
   ],
   "metadata": {
    "collapsed": false
   }
  },
  {
   "cell_type": "code",
   "execution_count": null,
   "id": "accepted-reggae",
   "metadata": {
    "trusted": false
   },
   "outputs": [],
   "source": [
    "angle, angle_last, stop_counter = 0.0, 0.0, 0\n",
    "can_drive = True\n",
    "stop_counter_limit = 10\n",
    "x, y = 0.0, 0.0\n",
    "\n",
    "\n",
    "def execute(change):\n",
    "    global angle, angle_last, blocked_slider, robot, stop_counter, stop_counter_limit, can_drive, x, y, blocked_threshold\n",
    "    global speed_control, steer_gain, steer_kd_gain, steer_bias\n",
    "\n",
    "    image = change['new']\n",
    "    image_preproc = preprocess(image).to(device)\n",
    "\n",
    "    # get slider values\n",
    "    steer_gain = steering_gain_slider.value\n",
    "    steer_kd_gain = steering_kd_gain_slider.value\n",
    "    steer_bias = steering_bias_slider.value\n",
    "    stop_counter_limit = stopduration_slider.value\n",
    "    max_speed = speed_control_slider.value\n",
    "\n",
    "    prob_blocked = get_collision_chance(image_preproc)\n",
    "    blocked_slider.value = prob_blocked\n",
    "\n",
    "    if can_drive:\n",
    "        can_drive = prob_blocked <= blocked_threshold.value\n",
    "        if can_drive:\n",
    "            stop_counter = 0\n",
    "            x, y = get_road_direction(image_preproc)\n",
    "            speed_control = max_speed\n",
    "        else:\n",
    "            stop_counter += 1\n",
    "    else:\n",
    "        stop_counter += 1\n",
    "        if stop_counter < stop_counter_limit:\n",
    "            x, y, speed_control = 0.0, 0.0, 0\n",
    "        else:\n",
    "            can_drive = True\n",
    "            stop_counter = 0\n",
    "\n",
    "    angle, left, right = calculate_speed(angle_last, x, y)\n",
    "    angle_last = angle\n",
    "\n",
    "    robot.left_motor.value = left\n",
    "    robot.right_motor.value = right\n",
    "\n",
    "    speed_output.value = f'{left:.02f}/{right:.02f}'\n",
    "\n",
    "\n",
    "execute({'new': camera.value})"
   ]
  },
  {
   "cell_type": "code",
   "execution_count": null,
   "outputs": [],
   "source": [
    "\n",
    "def start_stop_toggle(obj):\n",
    "    if obj[\"new\"]:\n",
    "        toggle_exec_btn.button_style = 'warning'\n",
    "        toggle_exec_btn.icon = 'warning'\n",
    "        toggle_exec_btn.description = \"Stop\"\n",
    "        camera.observe(execute, names='value')\n",
    "    else:\n",
    "        toggle_exec_btn.button_style = 'success'\n",
    "        toggle_exec_btn.icon = 'check'\n",
    "        toggle_exec_btn.description = 'Start'\n",
    "        camera.unobserve(execute, names='value')\n",
    "        time.sleep(0.1)\n",
    "        robot.stop()\n",
    "\n",
    "\n",
    "toggle_exec_btn.observe(start_stop_toggle, 'value')\n"
   ],
   "metadata": {
    "collapsed": false
   }
  }
 ],
 "metadata": {
  "kernelspec": {
   "display_name": "Python 3",
   "language": "python",
   "name": "python3"
  },
  "language_info": {
   "codemirror_mode": {
    "name": "ipython",
    "version": 3
   },
   "file_extension": ".py",
   "mimetype": "text/x-python",
   "name": "python",
   "nbconvert_exporter": "python",
   "pygments_lexer": "ipython3",
   "version": "3.6.9"
  }
 },
 "nbformat": 4,
 "nbformat_minor": 5
}
