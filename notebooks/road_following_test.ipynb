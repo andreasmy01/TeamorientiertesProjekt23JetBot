{
 "cells": [
  {
   "cell_type": "code",
   "execution_count": 1,
   "metadata": {},
   "outputs": [],
   "source": [
    "import os\n",
    "from uuid import uuid1\n",
    "\n",
    "import cv2\n",
    "import ipywidgets as widgets\n",
    "from IPython.display import display\n",
    "from ipycanvas import Canvas\n",
    "from ipywidgets import Image\n"
   ]
  },
  {
   "cell_type": "code",
   "execution_count": 2,
   "metadata": {},
   "outputs": [
    {
     "data": {
      "text/plain": "<All keys matched successfully>"
     },
     "execution_count": 2,
     "metadata": {},
     "output_type": "execute_result"
    }
   ],
   "source": [
    "#model_road = torchvision.models.resnet18(weights=None)\n",
    "#model_road.fc = torch.nn.Linear(512, 2)\n",
    "#model_road.load_state_dict(torch.load('best_steering_model_xy.pth', map_location=torch.device('cpu')))"
   ]
  },
  {
   "cell_type": "code",
   "execution_count": 3,
   "metadata": {},
   "outputs": [],
   "source": [
    "#def get_road_direction(image) -> (float, float):\n",
    "#    model_xy = model_road(image).detach().float().cpu().numpy().flatten()\n",
    "#    model_x = model_xy[0]\n",
    "#    model_y = (0.5 - model_xy[1]) / 2.0\n",
    "#    return model_x, model_y"
   ]
  },
  {
   "cell_type": "code",
   "execution_count": 4,
   "metadata": {},
   "outputs": [],
   "source": [
    "img_list = []\n",
    "for root, dirs, files in os.walk(\"img\", topdown=False):\n",
    "    for name in files:\n",
    "        img_list.append(root + \"/\" + name)"
   ]
  },
  {
   "cell_type": "code",
   "execution_count": 5,
   "metadata": {},
   "outputs": [],
   "source": [
    "counter = 0\n",
    "\n",
    "btn = widgets.Button(\n",
    "    description=\"Next\"\n",
    ")\n",
    "\n",
    "out = widgets.Output()"
   ]
  },
  {
   "cell_type": "code",
   "execution_count": 6,
   "metadata": {},
   "outputs": [
    {
     "name": "stdout",
     "output_type": "stream",
     "text": [
      "Directories not created because they already exist\n"
     ]
    }
   ],
   "source": [
    "\n",
    "DATASET_DIR = 'dataset_xy'\n",
    "\n",
    "# we have this \"try/except\" statement because these next functions can throw an error if the directories exist already\n",
    "try:\n",
    "    os.makedirs(DATASET_DIR)\n",
    "except FileExistsError:\n",
    "    print('Directories not created because they already exist')"
   ]
  },
  {
   "cell_type": "code",
   "execution_count": 7,
   "metadata": {},
   "outputs": [],
   "source": [
    "#image_widget = ClickableImageWidget(width=224, height=224)\n",
    "snapshot_widget = widgets.Image(width=224, height=224)"
   ]
  },
  {
   "cell_type": "code",
   "execution_count": null,
   "outputs": [],
   "source": [
    "\n",
    "canvas = Canvas(width=224, height=224)\n",
    "\n",
    "\n"
   ],
   "metadata": {
    "collapsed": false
   }
  },
  {
   "cell_type": "code",
   "execution_count": 8,
   "metadata": {},
   "outputs": [],
   "source": [
    "\n",
    "@out.capture()\n",
    "def on_canvas_click(x,y):\n",
    "    x = int(x)\n",
    "    y = int(y)\n",
    "    print(f\"{x} {y}\")\n",
    "    # todo draw circle on snapshot\n",
    "\n",
    "def on_click():\n",
    "    global counter\n",
    "    if len(img_list) > counter:\n",
    "        canvas.clear()\n",
    "        out.clear_output()\n",
    "        image = Image.from_file(img_list[counter])\n",
    "        image_file = open(img_list[counter], 'rb').read()\n",
    "\n",
    "        snapshot_widget.value = image_file\n",
    "        canvas.draw_image(image, 0, 0)\n",
    "        counter += 1\n",
    "\n",
    "\n",
    "btn.on_click(on_click)\n",
    "canvas.on_mouse_down(on_canvas_click)\n",
    "\n",
    "on_click()"
   ]
  },
  {
   "cell_type": "code",
   "execution_count": 9,
   "metadata": {},
   "outputs": [],
   "source": [
    "def save_snapshot(_, content, msg):\n",
    "    global counter\n",
    "    if content['event'] == 'click':\n",
    "        with out:\n",
    "            display(\"event\")\n",
    "        data = content['eventData']\n",
    "        x = data['offsetX']\n",
    "        y = data['offsetY']\n",
    "\n",
    "        # save to disk\n",
    "        #dataset.save_entry(category_widget.value, camera.value, x, y)\n",
    "        uuid = 'xy_%03d_%03d_%s' % (x, y, uuid1())\n",
    "        image_path = os.path.join(DATASET_DIR, uuid + '.jpg')\n",
    "        #with open(image_path, 'wb') as f:\n",
    "        #    f.write(image_widget.value)\n",
    "        snapshot = open(img_list[counter], 'rb').read()\n",
    "        snapshot = cv2.circle(snapshot, (x, y), 8, (0, 255, 0), 3)\n",
    "        snapshot_widget.value = snapshot\n",
    "\n",
    "#image_widget.on_msg(save_snapshot)"
   ]
  },
  {
   "cell_type": "code",
   "execution_count": 11,
   "metadata": {},
   "outputs": [
    {
     "data": {
      "text/plain": "VBox(children=(HBox(children=(ClickableImageWidget(value=b'\\xff\\xd8\\xff\\xe0\\x00\\x10JFIF\\x00\\x01\\x01\\x00\\x00\\x0…",
      "application/vnd.jupyter.widget-view+json": {
       "version_major": 2,
       "version_minor": 0,
       "model_id": "7b9edf8484a4439d92fe2a2170f56f53"
      }
     },
     "metadata": {},
     "output_type": "display_data"
    },
    {
     "data": {
      "text/plain": "Output()",
      "application/vnd.jupyter.widget-view+json": {
       "version_major": 2,
       "version_minor": 0,
       "model_id": "936abd1dbe3142bb93310ce2c0bb8506"
      }
     },
     "metadata": {},
     "output_type": "display_data"
    }
   ],
   "source": [
    "data_collection_widget = widgets.VBox([\n",
    "    widgets.HBox([canvas, snapshot_widget]),\n",
    "    btn\n",
    "])\n",
    "display(data_collection_widget)\n",
    "display(out)"
   ]
  },
  {
   "cell_type": "code",
   "execution_count": 14,
   "metadata": {},
   "outputs": [
    {
     "data": {
      "text/plain": "Canvas(height=224, width=224)",
      "application/vnd.jupyter.widget-view+json": {
       "version_major": 2,
       "version_minor": 0,
       "model_id": "89eb98486d8f4cdfae5f98d4d3f8b991"
      }
     },
     "execution_count": 14,
     "metadata": {},
     "output_type": "execute_result"
    }
   ],
   "source": []
  },
  {
   "cell_type": "code",
   "execution_count": null,
   "outputs": [],
   "source": [],
   "metadata": {
    "collapsed": false
   }
  }
 ],
 "metadata": {
  "kernelspec": {
   "display_name": "Python 3 (ipykernel)",
   "language": "python",
   "name": "python3"
  },
  "language_info": {
   "codemirror_mode": {
    "name": "ipython",
    "version": 3
   },
   "file_extension": ".py",
   "mimetype": "text/x-python",
   "name": "python",
   "nbconvert_exporter": "python",
   "pygments_lexer": "ipython3",
   "version": "3.9.11"
  }
 },
 "nbformat": 4,
 "nbformat_minor": 1
}
