{
 "cells": [
  {
   "cell_type": "markdown",
   "id": "suited-thomson",
   "metadata": {},
   "source": [
    "#  Demo JetBot with Road Following, Collision Avoidance & Sign Handling"
   ]
  },
  {
   "cell_type": "markdown",
   "id": "indirect-maldives",
   "metadata": {},
   "source": [
    "This scripts allows you to adjust or play around with parameters while driving. Use it by executing all cells and hitting the start button afterwards. You then can move the sliders.\n",
    "\n",
    "The default camera angle for this script should be ~70°. However, you may manually adjust it how you like. Also consider proper lighting conditions without reflections.\n",
    "\n",
    "CAUTION: After hitting the start button the camera may freeze for a few seconds which the bot takes to stabilize. Hold the bot or set speed to 0.00 for this period of time.\n",
    "\n"
   ]
  },
  {
   "cell_type": "code",
   "execution_count": 1,
   "id": "running-field",
   "metadata": {},
   "outputs": [],
   "source": [
    "import math\n",
    "import os\n",
    "import time\n",
    "from uuid import uuid1\n",
    "\n",
    "import PIL.Image\n",
    "import ipywidgets as widgets\n",
    "import torch\n",
    "import torch.nn.functional as functional\n",
    "import torchvision.transforms as transforms\n",
    "import traitlets\n",
    "from IPython.display import display\n",
    "from torch2trt import TRTModule\n",
    "\n",
    "from jetbot import Camera, bgr8_to_jpeg\n",
    "from jetbot import Robot\n",
    "\n",
    "from JetbotYolo.elements.yolo import OBJ_DETECTION"
   ]
  },
  {
   "cell_type": "code",
   "execution_count": 2,
   "id": "constant-register",
   "metadata": {},
   "outputs": [
    {
     "name": "stderr",
     "output_type": "stream",
     "text": [
      "Model summary: 214 layers, 1770682 parameters, 0 gradients\n"
     ]
    },
    {
     "data": {
      "text/plain": [
       "<All keys matched successfully>"
      ]
     },
     "execution_count": 2,
     "metadata": {},
     "output_type": "execute_result"
    }
   ],
   "source": [
    "Object_classes = ['sign_forbidden', 'sign_limit', 'sign_nolimit', 'sign_stop', 'kreuzung']\n",
    "Object_detector = OBJ_DETECTION('JetbotYolo/weights/obj_det_model_yolov5n.pt', Object_classes)\n",
    "\n",
    "\n",
    "device = torch.device('cuda')\n",
    "\n",
    "model_road = TRTModule()\n",
    "model_road.load_state_dict(torch.load('JetbotYolo/weights/best_steering_model_xy_17_04_a_trtv2.pth'))\n",
    "\n",
    "model_collision = TRTModule()\n",
    "model_collision.load_state_dict(torch.load('JetbotYolo/weights/collision_model_resnet_19_04_a_trt.pth'))"
   ]
  },
  {
   "cell_type": "markdown",
   "id": "annoying-metabolism",
   "metadata": {},
   "source": [
    "Preprocess Image"
   ]
  },
  {
   "cell_type": "code",
   "execution_count": 3,
   "id": "transsexual-lease",
   "metadata": {},
   "outputs": [],
   "source": [
    "mean = torch.Tensor([0.485, 0.456, 0.406]).cuda().half()\n",
    "std = torch.Tensor([0.229, 0.224, 0.225]).cuda().half()\n",
    "\n",
    "def preprocess(image):\n",
    "    image = PIL.Image.fromarray(image)\n",
    "    image = transforms.functional.to_tensor(image).to(device).half()\n",
    "    image.sub_(mean[:, None, None]).div_(std[:, None, None])\n",
    "    return image[None, ...]"
   ]
  },
  {
   "cell_type": "markdown",
   "id": "photographic-printer",
   "metadata": {},
   "source": [
    "Create Camera instance"
   ]
  },
  {
   "cell_type": "code",
   "execution_count": 4,
   "id": "hairy-organizer",
   "metadata": {},
   "outputs": [],
   "source": [
    "camera = Camera.instance(width=224, height=224, fps=10)"
   ]
  },
  {
   "cell_type": "markdown",
   "id": "expected-reality",
   "metadata": {},
   "source": [
    "Widget for information and camera feed display"
   ]
  },
  {
   "cell_type": "code",
   "execution_count": 5,
   "id": "shaped-doubt",
   "metadata": {},
   "outputs": [
    {
     "data": {
      "text/plain": [
       "<traitlets.traitlets.directional_link at 0x7f070672b0>"
      ]
     },
     "execution_count": 5,
     "metadata": {},
     "output_type": "execute_result"
    }
   ],
   "source": [
    "image_widget = widgets.Image()\n",
    "\n",
    "speed_output = widgets.Text(\n",
    "    value='',\n",
    "    placeholder='',\n",
    "    description='(l,r):',\n",
    "    disabled=True\n",
    ")\n",
    "\n",
    "model_output = widgets.Textarea(\n",
    "    value='',\n",
    "    placeholder='Type something',\n",
    "    description='Model:',\n",
    "    disabled=False\n",
    ")\n",
    "\n",
    "traitlets.dlink((camera, 'value'), (image_widget, 'value'), transform=bgr8_to_jpeg)"
   ]
  },
  {
   "cell_type": "markdown",
   "id": "romance-integration",
   "metadata": {},
   "source": [
    "Sliders and information widgets"
   ]
  },
  {
   "cell_type": "code",
   "execution_count": 6,
   "id": "ancient-eligibility",
   "metadata": {
    "collapsed": false,
    "jupyter": {
     "outputs_hidden": false
    }
   },
   "outputs": [],
   "source": [
    "# Road Following sliders\n",
    "speed_control_slider = widgets.FloatSlider(value=0.12, min=0.0, max=1.0, step=0.01, description='speed control')\n",
    "steering_gain_slider = widgets.FloatSlider(min=0.0, max=1.0, step=0.01, value=0.03, description='steering gain')\n",
    "steering_kd_gain_slider = widgets.FloatSlider(min=0.0, max=0.5, step=0.001, value=0.00, description='steering kd')\n",
    "steering_bias_slider = widgets.FloatSlider(min=-0.3, max=0.3, step=0.01, value=0.0, description='steering bias')\n",
    "\n",
    "#Collision Avoidance sliders\n",
    "blocked_slider = widgets.FloatSlider(min=0.0, max=1.0, orientation='horizontal', description='blocked')\n",
    "stop_duration_slider = widgets.IntSlider(min=1, max=1000, step=1, value=10, description='time for stop')\n",
    "blocked_threshold = widgets.FloatSlider(min=0, max=1.0, step=0.01, value=0.8, description='blocked threshold')\n",
    "\n",
    "# Object Detection Sliders\n",
    "xmax_threshold_slider = widgets.IntSlider(min=0, max=224, step=1, value=90, description='Xmax_threshold')\n",
    "ymax_threshold_slider = widgets.IntSlider(min=0, max=224, step=1, value=70, description='Ymax_threshold')\n",
    "score_threshold_slider = widgets.FloatSlider(min=0.0, max=1.0, step=0.05, value=0.80, description='Score_threshold')\n",
    "seconds_before_stop_slider = widgets.FloatSlider(min=0.00, max=2.00, step=0.10, value=1.00, description='seconds_before_stop')\n",
    "\n",
    "toggle_exec_btn = widgets.ToggleButton(\n",
    "    value=False,\n",
    "    description='Start',\n",
    "    disabled=False,\n",
    "    button_style='success',\n",
    "    tooltip='Description',\n",
    "    icon='check'\n",
    ")\n",
    "\n",
    "snapshot_btn = widgets.Button(\n",
    "    description='snapshot'\n",
    ")\n"
   ]
  },
  {
   "cell_type": "markdown",
   "id": "million-justice",
   "metadata": {},
   "source": [
    "make snapshot"
   ]
  },
  {
   "cell_type": "code",
   "execution_count": 7,
   "id": "buried-directory",
   "metadata": {
    "collapsed": false,
    "jupyter": {
     "outputs_hidden": false
    }
   },
   "outputs": [],
   "source": [
    "def take_snapshot(b=None):\n",
    "    try:\n",
    "        os.makedirs(\"snapshot\")\n",
    "    except FileExistsError:\n",
    "        pass\n",
    "    with open(os.path.join('snapshot', str(uuid1()) + '.jpg'), 'wb') as f:\n",
    "        f.write(image_widget.value)\n",
    "\n",
    "\n",
    "snapshot_btn.on_click(take_snapshot)"
   ]
  },
  {
   "cell_type": "markdown",
   "id": "appreciated-satin",
   "metadata": {},
   "source": [
    "debug slider for speed"
   ]
  },
  {
   "cell_type": "code",
   "execution_count": 8,
   "id": "promising-disability",
   "metadata": {
    "collapsed": false,
    "jupyter": {
     "outputs_hidden": false
    }
   },
   "outputs": [],
   "source": [
    "a_slider = widgets.FloatSlider(min=-math.pi, max=math.pi, step=0.01, description='a')\n",
    "xy_out = widgets.Text()"
   ]
  },
  {
   "cell_type": "markdown",
   "id": "broken-trader",
   "metadata": {},
   "source": [
    "Display the controlling widgets"
   ]
  },
  {
   "cell_type": "markdown",
   "id": "employed-latino",
   "metadata": {},
   "source": [
    "Variables for slider controls"
   ]
  },
  {
   "cell_type": "code",
   "execution_count": 9,
   "id": "italic-discipline",
   "metadata": {
    "collapsed": false,
    "jupyter": {
     "outputs_hidden": false
    }
   },
   "outputs": [],
   "source": [
    "speed_control, steer_gain, steer_kd_gain, steer_bias = speed_control_slider.value, 0.0, 0.0, 0.0"
   ]
  },
  {
   "cell_type": "markdown",
   "id": "hired-wilson",
   "metadata": {},
   "source": [
    "Init Roboter Object"
   ]
  },
  {
   "cell_type": "code",
   "execution_count": 10,
   "id": "radical-sphere",
   "metadata": {
    "collapsed": false,
    "jupyter": {
     "outputs_hidden": false
    }
   },
   "outputs": [],
   "source": [
    "robot = Robot()"
   ]
  },
  {
   "cell_type": "markdown",
   "id": "worldwide-assault",
   "metadata": {},
   "source": [
    "Global Vars"
   ]
  },
  {
   "cell_type": "code",
   "execution_count": 11,
   "id": "military-internship",
   "metadata": {
    "collapsed": false,
    "jupyter": {
     "outputs_hidden": false
    }
   },
   "outputs": [],
   "source": [
    "angle_last, stop_counter = 0.0, 0\n",
    "can_drive = True\n",
    "stop_counter_limit = 10\n",
    "x, y = 0.0, 0.0\n",
    "robot_is_stopped = True\n",
    "sign_stop_active = False\n",
    "ignore_stop_sign = False\n",
    "state_sign_stop = 0 # 0 = nix, 1 = 1s vor tatsächlichem Stopp, 2 = Stopp, 3 = ignoriere Stoppschilder\n",
    "time_ugly = 0 # timer wird von allen verwendet\n",
    "sign_no_limit_active = False\n",
    "sign_limit_active = False\n",
    "time_setup = -111\n",
    "wait_setup = True"
   ]
  },
  {
   "cell_type": "markdown",
   "id": "split-blend",
   "metadata": {},
   "source": [
    "calculate speed values"
   ]
  },
  {
   "cell_type": "code",
   "execution_count": 12,
   "id": "automotive-whole",
   "metadata": {
    "collapsed": false,
    "jupyter": {
     "outputs_hidden": false
    }
   },
   "outputs": [],
   "source": [
    "def calculate_speed(last_a: float, x_in: float, y_in: float) -> (float, float, float):\n",
    "    global a_slider\n",
    "    if robot_is_stopped:\n",
    "        return 0.0, 0.0, 0.0\n",
    "    a = math.atan2(x_in, y_in)\n",
    "    a_slider.value = a\n",
    "    xy_out.value = f\"({x:.02f} {y:.02f})\"\n",
    "    pid = a * steer_gain + (a - last_a) * steer_kd_gain\n",
    "    steer_val = pid + steer_bias\n",
    "    left = max(min(speed_control + steer_val, 1.0), 0.0)\n",
    "    right = max(min(speed_control - steer_val, 1.0), 0.0)\n",
    "    return a, left, right"
   ]
  },
  {
   "cell_type": "code",
   "execution_count": 13,
   "id": "adverse-maker",
   "metadata": {
    "collapsed": false,
    "jupyter": {
     "outputs_hidden": false
    }
   },
   "outputs": [],
   "source": [
    "def get_collision_chance(image) -> float:\n",
    "    collision = model_collision(image)\n",
    "    collision_softmax = functional.softmax(collision, dim=1).flatten()\n",
    "    return float(collision_softmax[0])"
   ]
  },
  {
   "cell_type": "code",
   "execution_count": 14,
   "id": "formal-capitol",
   "metadata": {
    "collapsed": false,
    "jupyter": {
     "outputs_hidden": false
    }
   },
   "outputs": [],
   "source": [
    "def get_road_direction(image) -> (float, float):\n",
    "    model_xy = model_road(image).detach().float().cpu().numpy().flatten()\n",
    "    model_x = model_xy[0]\n",
    "    model_y = (0.5 - model_xy[1]) / 2.0\n",
    "    return model_x, model_y"
   ]
  },
  {
   "cell_type": "markdown",
   "id": "danish-french",
   "metadata": {},
   "source": [
    "drive execute logic"
   ]
  },
  {
   "cell_type": "code",
   "execution_count": 15,
   "id": "reflected-class",
   "metadata": {},
   "outputs": [],
   "source": [
    "\n",
    "class Executor:\n",
    "    \n",
    "    def __init__(self):\n",
    "        self.frame_counter = 1\n",
    "        self.activate_yolo = True \n",
    "        \n",
    "    def changeFC(self):\n",
    "        if self.frame_counter == 2:\n",
    "            self.frame_counter = 1\n",
    "        else:\n",
    "            self.frame_counter = 2\n",
    "    \n",
    "    def execute(self, change):\n",
    "        global angle_last, blocked_slider, robot, stop_counter, stop_counter_limit, can_drive, x, y, blocked_threshold\n",
    "        global speed_control, steer_gain, steer_kd_gain, steer_bias\n",
    "        global xmax_threshold_slider, ymax_threshold_slider, score_threshold_slider, seconds_before_stop_slider\n",
    "        global robot, sign_stop_active, ignore_stop_sign, state_sign_stop, time_ugly, time_setup, wait_setup\n",
    "\n",
    "        image = change['new']\n",
    "\n",
    "        #############################################\n",
    "        if self.frame_counter == 2:\n",
    "            self.changeFC()\n",
    "            if self.activate_yolo == True and can_drive == True:\n",
    "                output = Object_detector.detect(image)\n",
    "                obj = -111\n",
    "                for ooo in output:\n",
    "                    if (ooo['label'] != 'kreuzung') and (ooo['label'] != 'sign_forbidden'):\n",
    "                        if obj == -111: \n",
    "                            obj = ooo\n",
    "                        elif ooo['ymax'] > obj['ymax']:\n",
    "                            obj = ooo\n",
    "                \n",
    "                if obj != -111:\n",
    "                    if obj['score'] > score_threshold_slider.value and obj['xmax'] > xmax_threshold_slider.value and obj['ymax'] > ymax_threshold_slider.value:\n",
    "                        if obj['label'] == 'sign_stop' and ignore_stop_sign == False:\n",
    "                            if state_sign_stop == 0:\n",
    "                                time_ugly = time.time()\n",
    "                                state_sign_stop = 1\n",
    "                        elif obj['label'] == 'sign_limit':\n",
    "                            speed_control_slider.value = 0.10\n",
    "                        elif obj['label'] == 'sign_nolimit':\n",
    "                            speed_control_slider.value = 0.14            \n",
    "                if state_sign_stop == 1:\n",
    "                    if time.time() - time_ugly > seconds_before_stop_slider.value:\n",
    "                        state_sign_stop = 2\n",
    "                        sign_stop_active = True\n",
    "                        robot.stop()\n",
    "                        time_ugly = time.time()\n",
    "                elif state_sign_stop == 2:\n",
    "                    if time.time() - time_ugly > 3:\n",
    "                        state_sign_stop = 3\n",
    "                        sign_stop_active = False\n",
    "                        ignore_stop_sign = True\n",
    "                        #robot.forward(0.11)\n",
    "                        time_ugly = time.time()\n",
    "                elif state_sign_stop == 3:\n",
    "                    if time.time() - time_ugly > 2:\n",
    "                        state_sign_stop = 0\n",
    "                        ignore_stop_sign = False\n",
    "            else:\n",
    "                self.activate_yolo = True\n",
    "\n",
    "        else:\n",
    "            self.changeFC()\n",
    "            # get slider values\n",
    "            image_preproc = preprocess(image).to(device)\n",
    "            steer_gain = steering_gain_slider.value\n",
    "            steer_kd_gain = steering_kd_gain_slider.value\n",
    "            steer_bias = steering_bias_slider.value\n",
    "            stop_counter_limit = stop_duration_slider.value\n",
    "            max_speed = speed_control_slider.value\n",
    "            if sign_stop_active == False:\n",
    "                prob_blocked = get_collision_chance(image_preproc)\n",
    "                blocked_slider.value = prob_blocked\n",
    "\n",
    "                if can_drive:\n",
    "                    can_drive = prob_blocked <= blocked_threshold.value\n",
    "                    if can_drive:\n",
    "                        stop_counter = 0\n",
    "                        x, y = get_road_direction(image_preproc)\n",
    "                        speed_control = max_speed\n",
    "                    else:\n",
    "                        stop_counter += 1\n",
    "                else:\n",
    "                    stop_counter += 1\n",
    "                    if stop_counter < stop_counter_limit:\n",
    "                        x, y, speed_control = 0.0, 0.0, 0\n",
    "                    else:\n",
    "                        can_drive = True\n",
    "                        stop_counter = 0\n",
    "\n",
    "                angle, left, right = calculate_speed(angle_last, x, y)\n",
    "                angle_last = angle\n",
    "                \n",
    "                if (wait_setup == True) and (time_setup != -111):\n",
    "                    if time.time() - time_setup > 5:\n",
    "                        wait_setup = False\n",
    "                \n",
    "                if wait_setup == False:\n",
    "                    robot.left_motor.value = left\n",
    "                    robot.right_motor.value = right\n",
    "\n",
    "                speed_output.value = f'{left:.02f}/{right:.02f}'\n",
    "            else: \n",
    "                speed_output.value = f'{0}/{0}'\n",
    "#######################################\n",
    "executor = Executor()\n",
    "executor.execute({'new': camera.value})"
   ]
  },
  {
   "cell_type": "code",
   "execution_count": 16,
   "id": "determined-kitchen",
   "metadata": {
    "collapsed": false,
    "jupyter": {
     "outputs_hidden": false
    }
   },
   "outputs": [],
   "source": [
    "def start_stop_toggle(obj):\n",
    "    global robot_is_stopped, time_setup, wait_setup\n",
    "    if obj[\"new\"]:\n",
    "        toggle_exec_btn.button_style = 'warning'\n",
    "        toggle_exec_btn.icon = 'warning'\n",
    "        toggle_exec_btn.description = \"Stop\"\n",
    "        camera.observe(executor.execute, names='value')\n",
    "        robot_is_stopped = False\n",
    "        if wait_setup == True:\n",
    "            time_setup = time.time()\n",
    "    else:\n",
    "        toggle_exec_btn.button_style = 'success'\n",
    "        toggle_exec_btn.icon = 'check'\n",
    "        toggle_exec_btn.description = 'Start'\n",
    "        camera.unobserve(executor.execute, names='value')\n",
    "        robot_is_stopped = True\n",
    "        time.sleep(0.1)\n",
    "        robot.stop()\n",
    "\n",
    "\n",
    "toggle_exec_btn.observe(start_stop_toggle, 'value')"
   ]
  },
  {
   "cell_type": "markdown",
   "source": [
    "CAUTION: The robot may move uncontrollably fast when\n",
    "- speed is set > 0.18\n",
    "- steering_kd is set > 0.08\n",
    "- steering_gain is set > 0.08"
   ],
   "metadata": {
    "collapsed": false
   }
  },
  {
   "cell_type": "code",
   "execution_count": 17,
   "id": "ordered-hamburg",
   "metadata": {},
   "outputs": [
    {
     "data": {
      "application/vnd.jupyter.widget-view+json": {
       "model_id": "4713bcbea1434007832b0b1e265a5970",
       "version_major": 2,
       "version_minor": 0
      },
      "text/plain": [
       "FloatSlider(value=0.12, description='speed control', max=1.0, step=0.01)"
      ]
     },
     "metadata": {},
     "output_type": "display_data"
    },
    {
     "data": {
      "application/vnd.jupyter.widget-view+json": {
       "model_id": "7cb350c519f741a981ef9f84be33e9e3",
       "version_major": 2,
       "version_minor": 0
      },
      "text/plain": [
       "FloatSlider(value=0.03, description='steering gain', max=1.0, step=0.01)"
      ]
     },
     "metadata": {},
     "output_type": "display_data"
    },
    {
     "data": {
      "application/vnd.jupyter.widget-view+json": {
       "model_id": "ffd9f970c6424e13a2b3ab748519dc1d",
       "version_major": 2,
       "version_minor": 0
      },
      "text/plain": [
       "FloatSlider(value=0.0, description='steering kd', max=0.5, step=0.001)"
      ]
     },
     "metadata": {},
     "output_type": "display_data"
    },
    {
     "data": {
      "application/vnd.jupyter.widget-view+json": {
       "model_id": "2dc3bef5f00b42d182e503d3e03904f8",
       "version_major": 2,
       "version_minor": 0
      },
      "text/plain": [
       "FloatSlider(value=0.0, description='steering bias', max=0.3, min=-0.3, step=0.01)"
      ]
     },
     "metadata": {},
     "output_type": "display_data"
    },
    {
     "data": {
      "application/vnd.jupyter.widget-view+json": {
       "model_id": "911443daa6e44bebb76cf62b9e56b9cb",
       "version_major": 2,
       "version_minor": 0
      },
      "text/plain": [
       "FloatSlider(value=0.8, description='Score_threshold', max=1.0, step=0.05)"
      ]
     },
     "metadata": {},
     "output_type": "display_data"
    },
    {
     "data": {
      "application/vnd.jupyter.widget-view+json": {
       "model_id": "88e5c05987974c33b4050f8700ed30bb",
       "version_major": 2,
       "version_minor": 0
      },
      "text/plain": [
       "IntSlider(value=90, description='Xmax_threshold', max=224)"
      ]
     },
     "metadata": {},
     "output_type": "display_data"
    },
    {
     "data": {
      "application/vnd.jupyter.widget-view+json": {
       "model_id": "c3873fcd7d064d78b0d1482b2ffc544b",
       "version_major": 2,
       "version_minor": 0
      },
      "text/plain": [
       "IntSlider(value=70, description='Ymax_threshold', max=224)"
      ]
     },
     "metadata": {},
     "output_type": "display_data"
    },
    {
     "data": {
      "application/vnd.jupyter.widget-view+json": {
       "model_id": "2b8f0aa6dc6544ec8c4c30c0d49de750",
       "version_major": 2,
       "version_minor": 0
      },
      "text/plain": [
       "IntSlider(value=1, description='seconds_before_stop', max=2)"
      ]
     },
     "metadata": {},
     "output_type": "display_data"
    },
    {
     "data": {
      "application/vnd.jupyter.widget-view+json": {
       "model_id": "1e951c21895a421780924e8c89feb38d",
       "version_major": 2,
       "version_minor": 0
      },
      "text/plain": [
       "HBox(children=(ToggleButton(value=False, button_style='success', description='Start', icon='check', tooltip='D…"
      ]
     },
     "metadata": {},
     "output_type": "display_data"
    },
    {
     "data": {
      "application/vnd.jupyter.widget-view+json": {
       "model_id": "f90fec37f5204ee290219982f4a90afc",
       "version_major": 2,
       "version_minor": 0
      },
      "text/plain": [
       "HBox(children=(Image(value=b'\\xff\\xd8\\xff\\xe0\\x00\\x10JFIF\\x00\\x01\\x01\\x00\\x00\\x01\\x00\\x01\\x00\\x00\\xff\\xdb\\x00C…"
      ]
     },
     "metadata": {},
     "output_type": "display_data"
    },
    {
     "data": {
      "application/vnd.jupyter.widget-view+json": {
       "model_id": "54fb06adf48a45e6aa8b3436271fda0b",
       "version_major": 2,
       "version_minor": 0
      },
      "text/plain": [
       "Text(value='0.00/0.00', description='(l,r):', disabled=True, placeholder='')"
      ]
     },
     "metadata": {},
     "output_type": "display_data"
    },
    {
     "data": {
      "application/vnd.jupyter.widget-view+json": {
       "model_id": "7876ebf23c554431b6cc29e886acbbff",
       "version_major": 2,
       "version_minor": 0
      },
      "text/plain": [
       "HBox(children=(FloatSlider(value=7.331371307373047e-06, description='blocked', max=1.0), FloatSlider(value=0.8…"
      ]
     },
     "metadata": {},
     "output_type": "display_data"
    },
    {
     "data": {
      "application/vnd.jupyter.widget-view+json": {
       "model_id": "f24e4fdf54ca49cbbba64a762423b3d0",
       "version_major": 2,
       "version_minor": 0
      },
      "text/plain": [
       "FloatSlider(value=0.0, description='a', max=3.141592653589793, min=-3.141592653589793, step=0.01)"
      ]
     },
     "metadata": {},
     "output_type": "display_data"
    },
    {
     "data": {
      "application/vnd.jupyter.widget-view+json": {
       "model_id": "413415d1b16447c88de779f2646086d0",
       "version_major": 2,
       "version_minor": 0
      },
      "text/plain": [
       "Text(value='')"
      ]
     },
     "metadata": {},
     "output_type": "display_data"
    }
   ],
   "source": [
    "display(speed_control_slider, steering_gain_slider, steering_kd_gain_slider, steering_bias_slider)\n",
    "\n",
    "display(score_threshold_slider, xmax_threshold_slider, ymax_threshold_slider, seconds_before_stop_slider)\n",
    "\n",
    "display(widgets.HBox([toggle_exec_btn, snapshot_btn]))\n",
    "\n",
    "display(widgets.HBox([image_widget]))\n",
    "display(speed_output)\n",
    "\n",
    "display(widgets.HBox([blocked_slider, blocked_threshold, stop_duration_slider]))\n",
    "display(a_slider, xy_out)"
   ]
  },
  {
   "cell_type": "markdown",
   "id": "general-healthcare",
   "metadata": {},
   "source": [
    "Uncomment and execute the cell to stop and destroy the camera. The camera is now free to be used by other scripts. To re-enable this script, comment this cell out, restart the kernel for this script and execute all other cells sequentially."
   ]
  },
  {
   "cell_type": "code",
   "execution_count": 18,
   "id": "polar-weekly",
   "metadata": {},
   "outputs": [],
   "source": [
    "#camera.stop()"
   ]
  },
  {
   "cell_type": "markdown",
   "id": "chicken-recorder",
   "metadata": {},
   "source": [
    "recommended default values:\n",
    "kd 0.00, ymax 70, xmax 90, score 0.80, steering gain 0.03, speed between 0.1 and 0.15"
   ]
  }
 ],
 "metadata": {
  "kernelspec": {
   "display_name": "Python 3",
   "language": "python",
   "name": "python3"
  },
  "language_info": {
   "codemirror_mode": {
    "name": "ipython",
    "version": 3
   },
   "file_extension": ".py",
   "mimetype": "text/x-python",
   "name": "python",
   "nbconvert_exporter": "python",
   "pygments_lexer": "ipython3",
   "version": "3.6.9"
  }
 },
 "nbformat": 4,
 "nbformat_minor": 5
}
