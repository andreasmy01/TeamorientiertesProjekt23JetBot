from AutomaticDataCollector import AutomaticDataCollector
from jetbot import Camera, bgr8_to_jpeg


collector = AutomaticDataCollector(1, Camera()) #Sekunden wann ausgelöst werden soll und Kamera Objekt müssen übergeben werden.
collector.start()
