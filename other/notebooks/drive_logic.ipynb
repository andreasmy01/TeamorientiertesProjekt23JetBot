{
 "cells": [
  {
   "cell_type": "markdown",
   "id": "studied-cabin",
   "metadata": {
    "collapsed": false
   },
   "source": [
    "# Skript für den Jetbot der Roadfollowing und Collision Avoidance kombiniert"
   ]
  },
  {
   "cell_type": "code",
   "execution_count": null,
   "id": "finite-holiday",
   "metadata": {
    "trusted": false
   },
   "outputs": [],
   "source": [
    "import os\n",
    "\n",
    "import ipywidgets as widgets\n",
    "import traitlets\n",
    "from IPython.display import display\n",
    "\n",
    "from jetbot import Camera, bgr8_to_jpeg\n",
    "from libjetbot.ExtendedRobot import ExtendedRobot\n",
    "from libjetbot.handles.CollisionDetectionHandle import CollisionDetectionHandle\n",
    "from libjetbot.handles.RoadFollowingHandle import RoadFollowingHandle"
   ]
  },
  {
   "cell_type": "markdown",
   "id": "compressed-champagne",
   "metadata": {
    "collapsed": false
   },
   "source": [
    "Create Camera instance"
   ]
  },
  {
   "cell_type": "code",
   "execution_count": null,
   "id": "democratic-inventory",
   "metadata": {
    "trusted": false
   },
   "outputs": [],
   "source": [
    "camera = Camera.instance(width=224, height=224, fps=10)"
   ]
  },
  {
   "cell_type": "code",
   "execution_count": null,
   "outputs": [],
   "source": [
    "robot: ExtendedRobot = ExtendedRobot(camera=camera)"
   ],
   "metadata": {
    "collapsed": false
   }
  },
  {
   "cell_type": "code",
   "execution_count": null,
   "outputs": [],
   "source": [
    "robot.register(CollisionDetectionHandle(os.path.abspath(\"path_to_model\")))\n",
    "robot.register(RoadFollowingHandle(os.path.abspath(\"path_to_model\")))"
   ],
   "metadata": {
    "collapsed": false
   }
  },
  {
   "cell_type": "markdown",
   "source": [
    "Widget for information and camera feed display"
   ],
   "metadata": {
    "collapsed": false
   }
  },
  {
   "cell_type": "code",
   "execution_count": null,
   "id": "uniform-marking",
   "metadata": {
    "trusted": false
   },
   "outputs": [],
   "source": [
    "image_widget = widgets.Image()\n",
    "\n",
    "traitlets.dlink((camera, 'value'), (image_widget, 'value'), transform=bgr8_to_jpeg)"
   ]
  },
  {
   "cell_type": "markdown",
   "source": [
    "Sliders and information display"
   ],
   "metadata": {
    "collapsed": false
   }
  },
  {
   "cell_type": "code",
   "execution_count": null,
   "id": "recognized-expert",
   "metadata": {
    "collapsed": false,
    "trusted": false
   },
   "outputs": [],
   "source": [
    "toggle_exec_btn = widgets.ToggleButton(\n",
    "    value=False,\n",
    "    description='Start',\n",
    "    disabled=False,\n",
    "    button_style='success',\n",
    "    tooltip='Description',\n",
    "    icon='check'\n",
    ")\n",
    "\n",
    "display(toggle_exec_btn)\n",
    "display(image_widget)"
   ]
  },
  {
   "cell_type": "markdown",
   "source": [
    "Variables for slider controls"
   ],
   "metadata": {
    "collapsed": false
   }
  },
  {
   "cell_type": "code",
   "execution_count": null,
   "outputs": [],
   "source": [
    "def start_stop_toggle(obj):\n",
    "    if obj[\"new\"]:\n",
    "        toggle_exec_btn.button_style = 'warning'\n",
    "        toggle_exec_btn.icon = 'warning'\n",
    "        toggle_exec_btn.description = \"Stop\"\n",
    "        robot.start()\n",
    "    else:\n",
    "        toggle_exec_btn.button_style = 'success'\n",
    "        toggle_exec_btn.icon = 'check'\n",
    "        toggle_exec_btn.description = 'Start'\n",
    "        robot.stop()\n",
    "\n",
    "\n",
    "toggle_exec_btn.observe(start_stop_toggle, 'value')"
   ],
   "metadata": {
    "collapsed": false
   }
  }
 ],
 "metadata": {
  "kernelspec": {
   "display_name": "Python 3",
   "language": "python",
   "name": "python3"
  },
  "language_info": {
   "codemirror_mode": {
    "name": "ipython",
    "version": 3
   },
   "file_extension": ".py",
   "mimetype": "text/x-python",
   "name": "python",
   "nbconvert_exporter": "python",
   "pygments_lexer": "ipython3",
   "version": "3.6.9"
  }
 },
 "nbformat": 4,
 "nbformat_minor": 5
}
